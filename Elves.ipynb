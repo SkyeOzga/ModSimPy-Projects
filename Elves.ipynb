{
 "cells": [
  {
   "cell_type": "code",
   "execution_count": 64,
   "metadata": {},
   "outputs": [],
   "source": [
    "# Configure Jupyter so figures appear in the notebook\n",
    "%matplotlib inline\n",
    "\n",
    "# Configure Jupyter to display the assigned value after an assignment\n",
    "%config InteractiveShell.ast_node_interactivity='last_expr_or_assign'\n",
    "                                                                    \n",
    "# import functions from the modsim.py module\n",
    "from modsim import *"
   ]
  },
  {
   "cell_type": "markdown",
   "metadata": {},
   "source": [
    "**Stocks:** Elk (X), Wolves (Y)\n",
    "\n",
    "**Parameters:** Elk BR (Alpha), Elk DR (Beta), Wolf BR (Delta), Wolf DR (Gamma)\n",
    "\n",
    "**Differential Equations:**\n",
    "\n",
    "dX/dt = Alpha\\*X - Beta\\*X\\*Y\n",
    "\n",
    "dY/dt = Delta\\*X\\*Y - Gamma\\*Y"
   ]
  },
  {
   "cell_type": "code",
   "execution_count": 57,
   "metadata": {},
   "outputs": [
    {
     "data": {
      "text/plain": [
       "200"
      ]
     },
     "execution_count": 57,
     "metadata": {},
     "output_type": "execute_result"
    }
   ],
   "source": [
    "X0    = 1.0\n",
    "Y0    = 1.0\n",
    "A0    = 0.05\n",
    "B0    = 0.1\n",
    "G0    = 0.1\n",
    "D0    = 0.1\n",
    "T_0   = 0\n",
    "T_END = 200"
   ]
  },
  {
   "cell_type": "code",
   "execution_count": 58,
   "metadata": {},
   "outputs": [],
   "source": [
    "def make_system(a, b, d, g):\n",
    "    i = State(X = X0, Y = Y0);\n",
    "\n",
    "    return System(alpha = a,\n",
    "                  beta  = b,\n",
    "                  delta = d,\n",
    "                  gamma = g,\n",
    "                  init  = i,\n",
    "                  t_0   = T_0,\n",
    "                  t_end = T_END);"
   ]
  },
  {
   "cell_type": "code",
   "execution_count": 59,
   "metadata": {},
   "outputs": [],
   "source": [
    "def run_simulation(system, update_func):\n",
    "    \"\"\"Runs a simulation of the system.\n",
    "        \n",
    "    system: System object\n",
    "    update_func: function that updates state\n",
    "    \n",
    "    returns: TimeFrame\n",
    "    \"\"\"\n",
    "    unpack(system)\n",
    "    \n",
    "    frame = TimeFrame(columns=init.index)\n",
    "    frame.row[t_0] = init\n",
    "    \n",
    "    for t in linrange(t_0, t_end):\n",
    "        frame.row[t+1] = update_func(frame.row[t], t, system)\n",
    "    \n",
    "    return frame"
   ]
  },
  {
   "cell_type": "code",
   "execution_count": 60,
   "metadata": {},
   "outputs": [],
   "source": [
    "def update(state, t, system):\n",
    "    unpack(system)\n",
    "    unpack(state)\n",
    "    \n",
    "    x,y = state\n",
    "    \n",
    "    dX = alpha*x - beta*x*y\n",
    "    dY = delta*x*y - gamma*y\n",
    "    \n",
    "    x += dX\n",
    "    y += dY\n",
    "    \n",
    "    return State(X=x, Y=y)"
   ]
  },
  {
   "cell_type": "code",
   "execution_count": 61,
   "metadata": {},
   "outputs": [],
   "source": [
    "def plot_results(X, Y):\n",
    "    plot(X, '--', label='Elk')\n",
    "    plot(Y, '-',  label='Wolves')\n",
    "    decorate(xlabel='Time (days)',\n",
    "             ylabel='Population')"
   ]
  },
  {
   "cell_type": "code",
   "execution_count": 62,
   "metadata": {},
   "outputs": [
    {
     "name": "stdout",
     "output_type": "stream",
     "text": [
      "alpha                                0.05\n",
      "beta                                  0.1\n",
      "delta                                 0.1\n",
      "gamma                                 0.1\n",
      "init     X    1.0\n",
      "Y    1.0\n",
      "dtype: float64\n",
      "t_0                                     0\n",
      "t_end                                 200\n",
      "dtype: object\n"
     ]
    },
    {
     "data": {
      "image/png": "[encoded data removed]",
      "text/plain": [
       "<Figure size 432x288 with 1 Axes>"
      ]
     },
     "metadata": {},
     "output_type": "display_data"
    }
   ],
   "source": [
    "sys = make_system(A0, B0, D0, G0)\n",
    "results = run_simulation(sys, update)\n",
    "plot_results(results.X, results.Y)\n",
    "print(sys)"
   ]
  },
  {
   "cell_type": "code",
   "execution_count": null,
   "metadata": {},
   "outputs": [],
   "source": []
  },
  {
   "cell_type": "markdown",
   "metadata": {},
   "source": [
    "# "
   ]
  },
  {
   "cell_type": "code",
   "execution_count": null,
   "metadata": {},
   "outputs": [],
   "source": []
  }
 ],
 "metadata": {
  "kernelspec": {
   "display_name": "Python 3",
   "language": "python",
   "name": "python3"
  },
  "language_info": {
   "codemirror_mode": {
    "name": "ipython",
    "version": 3
   },
   "file_extension": ".py",
   "mimetype": "text/x-python",
   "name": "python",
   "nbconvert_exporter": "python",
   "pygments_lexer": "ipython3",
   "version": "3.6.6"
  }
 },
 "nbformat": 4,
 "nbformat_minor": 2
}
