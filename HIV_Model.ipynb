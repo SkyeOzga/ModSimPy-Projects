{
 "cells": [
  {
   "cell_type": "code",
   "execution_count": 4,
   "metadata": {},
   "outputs": [],
   "source": [
    "#import all the libraries\n",
    "from modsim import *\n",
    "import random\n",
    "import pandas as pd\n",
    "import numpy as np\n",
    "import matplotlib.pyplot as plt\n",
    "\n",
    "# Configure Jupyter so figures appear in the notebook\n",
    "%matplotlib inline\n",
    "\n",
    "# Configure Jupyter to display the assigned value after an assignment\n",
    "%config InteractiveShell.ast_node_interactivity='last_expr_or_assign'"
   ]
  },
  {
   "cell_type": "markdown",
   "metadata": {},
   "source": [
    "**Stocks**: Uninfected Lymphocytes (R), Latently Infected Lymphocytes (L), Infected Lymphocytes (E), Virions (V)\n",
    "\n",
    "**Parameters**: Uninfected Lymphocyte Production (Gamma), Lymphocyte Activation Rate (Tau), Lymphocyte natural death rate (Mu), Infection Rate Modifier (Beta), Proportion of cells latently infected (Rho), Latently Infected Activation Rate (Alpha), Infected Death Rate (Delta), Free Virion Production Rate (Pi), Free Virion Removal Rate (Sigma)\n",
    "\n",
    "Gamma \\* Tau is constant, Infection Rate = Beta * V\n",
    "\n",
    "**Differential Equations**\n",
    "\n",
    "dR/dt = Gamma\\*Tau - Mu\\*R - Beta\\*R\\*V\n",
    "\n",
    "dL/dt = Rho\\*Beta\\*R\\*V - Mu\\*L - Alpha\\*L\n",
    "\n",
    "dE/dt = (1 - Rho)\\*Beta\\*R\\*V + Alpha\\*L - Delta\\*E\n",
    "\n",
    "dV/dt = Pi\\*E - Sigma\\*V"
   ]
  },
  {
   "cell_type": "code",
   "execution_count": 5,
   "metadata": {},
   "outputs": [
    {
     "data": {
      "text/plain": [
       "0"
      ]
     },
     "execution_count": 5,
     "metadata": {},
     "output_type": "execute_result"
    }
   ],
   "source": [
    "g = 0\n",
    "t = 0\n",
    "m = 0\n",
    "b = 0\n",
    "p = 0\n",
    "a = 0\n",
    "d = 0\n",
    "p = 0\n",
    "s = 0"
   ]
  },
  {
   "cell_type": "code",
   "execution_count": 6,
   "metadata": {},
   "outputs": [],
   "source": [
    "def make_system(gamma, tau, mu, beta, rho, alpha, delta, pi, sigma):\n",
    "    \"\"\"Make a system object for the SIR model.\n",
    "    \n",
    "    beta: contact rate in days\n",
    "    gamma: recovery rate in days\n",
    "    \n",
    "    returns: System object\n",
    "    \"\"\"\n",
    "    init = State(R = 0.0,\n",
    "                 L = 0.0,\n",
    "                 E = 0.0,\n",
    "                 V = 0.0)\n",
    "\n",
    "    t0 = 0\n",
    "    t_end = 7 * 14\n",
    "\n",
    "    return System(gamma = 0,\n",
    "                  tau   = 0,\n",
    "                  mu    = 0,\n",
    "                  beta  = 0,\n",
    "                  rho   = 0,\n",
    "                  alpha = 0,\n",
    "                  delta = 0,\n",
    "                  pi    = 0, \n",
    "                  sigma = 0,\n",
    "                  init  = init,\n",
    "                  t0    = t0, \n",
    "                  t_end = t_end)\n"
   ]
  },
  {
   "cell_type": "code",
   "execution_count": null,
   "metadata": {},
   "outputs": [],
   "source": [
    "def plot_results(R, L, E, V):\n",
    "    plot(R, '--', label = 'Uninfected Lymphocytes')\n",
    "    plot(L, '-',  label = 'Latently Infected Lymphocytes')\n",
    "    plot(E, ':',  label = 'Infected Lymphocytes')\n",
    "    plot(V, '-o', label = 'Free Virions')\n",
    "    decorate(xlabel = 'Time (days)',\n",
    "             ylabel = 'Fraction of population')"
   ]
  },
  {
   "cell_type": "code",
   "execution_count": null,
   "metadata": {},
   "outputs": [],
   "source": [
    "def run_simulation(system, update_func):\n",
    "    unpack(system)\n",
    "    \n",
    "    frame = TimeFrame(columns=init.index)\n",
    "    frame.row[t0] = init\n",
    "    \n",
    "    for t in linrange(t0, t_end):\n",
    "        frame.row[t+1] = update_func(frame.row[t], t, system)\n",
    "    \n",
    "    return frame"
   ]
  },
  {
   "cell_type": "code",
   "execution_count": null,
   "metadata": {},
   "outputs": [],
   "source": [
    "def update_func(state, t, system):\n",
    "    unpack(system)\n",
    "    r, l, e, v = state\n",
    "\n",
    "    dR = gamma*tau - mu*r - beta*r*v\n",
    "\n",
    "    dL = rho*beta*r*v - mu*l - alpha*l\n",
    "\n",
    "    dE = (1 - rho)*beta*r*v + alpha*l - delta*e\n",
    "\n",
    "    dV = Pi*E - Sigma*V\n",
    "    \n",
    "    r += dR\n",
    "    l += dL\n",
    "    e += dE\n",
    "    v += dV\n",
    "    \n",
    "    return State(R=r, L=l, E=e, V=v)"
   ]
  },
  {
   "cell_type": "code",
   "execution_count": 7,
   "metadata": {},
   "outputs": [
    {
     "data": {
      "text/html": [
       "<div>\n",
       "<style scoped>\n",
       "    .dataframe tbody tr th:only-of-type {\n",
       "        vertical-align: middle;\n",
       "    }\n",
       "\n",
       "    .dataframe tbody tr th {\n",
       "        vertical-align: top;\n",
       "    }\n",
       "\n",
       "    .dataframe thead th {\n",
       "        text-align: right;\n",
       "    }\n",
       "</style>\n",
       "<table border=\"1\" class=\"dataframe\">\n",
       "  <thead>\n",
       "    <tr style=\"text-align: right;\">\n",
       "      <th></th>\n",
       "      <th>values</th>\n",
       "    </tr>\n",
       "  </thead>\n",
       "  <tbody>\n",
       "    <tr>\n",
       "      <th>gamma</th>\n",
       "      <td>0</td>\n",
       "    </tr>\n",
       "    <tr>\n",
       "      <th>tau</th>\n",
       "      <td>0</td>\n",
       "    </tr>\n",
       "    <tr>\n",
       "      <th>mu</th>\n",
       "      <td>0</td>\n",
       "    </tr>\n",
       "    <tr>\n",
       "      <th>beta</th>\n",
       "      <td>0</td>\n",
       "    </tr>\n",
       "    <tr>\n",
       "      <th>rho</th>\n",
       "      <td>0</td>\n",
       "    </tr>\n",
       "    <tr>\n",
       "      <th>alpha</th>\n",
       "      <td>0</td>\n",
       "    </tr>\n",
       "    <tr>\n",
       "      <th>delta</th>\n",
       "      <td>0</td>\n",
       "    </tr>\n",
       "    <tr>\n",
       "      <th>pi</th>\n",
       "      <td>0</td>\n",
       "    </tr>\n",
       "    <tr>\n",
       "      <th>sigma</th>\n",
       "      <td>0</td>\n",
       "    </tr>\n",
       "    <tr>\n",
       "      <th>init</th>\n",
       "      <td>R    0\n",
       "L    0\n",
       "E    0\n",
       "V    0\n",
       "dtype: int64</td>\n",
       "    </tr>\n",
       "    <tr>\n",
       "      <th>t0</th>\n",
       "      <td>0</td>\n",
       "    </tr>\n",
       "    <tr>\n",
       "      <th>t_end</th>\n",
       "      <td>98</td>\n",
       "    </tr>\n",
       "  </tbody>\n",
       "</table>\n",
       "</div>"
      ],
      "text/plain": [
       "gamma                                           0\n",
       "tau                                             0\n",
       "mu                                              0\n",
       "beta                                            0\n",
       "rho                                             0\n",
       "alpha                                           0\n",
       "delta                                           0\n",
       "pi                                              0\n",
       "sigma                                           0\n",
       "init     R    0\n",
       "L    0\n",
       "E    0\n",
       "V    0\n",
       "dtype: int64\n",
       "t0                                              0\n",
       "t_end                                          98\n",
       "dtype: object"
      ]
     },
     "execution_count": 7,
     "metadata": {},
     "output_type": "execute_result"
    }
   ],
   "source": [
    "sys = make_system(g, t, m, b, p, a, d, p, s)"
   ]
  },
  {
   "cell_type": "code",
   "execution_count": null,
   "metadata": {},
   "outputs": [],
   "source": []
  }
 ],
 "metadata": {
  "kernelspec": {
   "display_name": "Python 3",
   "language": "python",
   "name": "python3"
  },
  "language_info": {
   "codemirror_mode": {
    "name": "ipython",
    "version": 3
   },
   "file_extension": ".py",
   "mimetype": "text/x-python",
   "name": "python",
   "nbconvert_exporter": "python",
   "pygments_lexer": "ipython3",
   "version": "3.6.5"
  }
 },
 "nbformat": 4,
 "nbformat_minor": 2
}
