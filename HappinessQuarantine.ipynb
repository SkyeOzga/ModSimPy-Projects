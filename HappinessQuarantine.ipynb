{
 "cells": [
  {
   "cell_type": "markdown",
   "metadata": {},
   "source": [
    "Baseline Happiness:\n",
    "mean  = 6.828\n",
    "stdev = 1.761\n",
    "\n",
    "Lonely Happiness:\n",
    "mean  = 5.290\n",
    "stdev = 2.348\n",
    "\n",
    "Sick Happiness:\n",
    "mean  = 3.204\n",
    "stdev = 1.441\n",
    "\n",
    "Healthy contacts/day:\n",
    "mean  = 25.880\n",
    "stdev = 19.396\n",
    "\n",
    "Sick contacts/day:\n",
    "mean  = 15.547\n",
    "stdev = 12.598\n",
    "\n",
    "Days sick:\n",
    "Mean  = 7.185\n",
    "stdev = 5.773"
   ]
  },
  {
   "cell_type": "markdown",
   "metadata": {},
   "source": [
    "Step 1: Build SIR Model for Olin\n",
    "    - Use Survey data:\n",
    "        - Contact Rate\n",
    "        - Recovery Speed\n",
    "        - Infection Rate\n",
    "    \n",
    "    \n",
    "Step 2: Add Quarantine\n",
    "    - Keep a working version without Quarrantine\n",
    "    - I -> Q\n",
    "    - Can only infect roommate?\n",
    "        - 1 interaction per day\n",
    "\n",
    "\n",
    "Step 3: Create Happines\n",
    "    - Assign baseline happiness\n",
    "    - Calculate lonliness and sadness modifiers\n",
    "    - Stretch Goal: Stress Strain model to account for missing work/length of quarrantine\n",
    "    \n",
    "\n",
    "Step 4: Integrate Happiness\n",
    "    - Being sick = less happy\n",
    "    - Being alone = less happy\n",
    "    - Being sick and alone = lonliness modifier * sickness modifier\n",
    "    \n",
    "    \n",
    "Step 5: Add Quarrantine Agressiveness Params\n",
    "    - Quarantine Lengths\n",
    "    - False Positives for Symptoms?\n",
    "    - Random Pre-Emptive Isolation???\n",
    "\n",
    "\n",
    "Step 6: Sweep Quarantine Agressiveness\n",
    "    - Multiple Line plots ranging from no quarantine to putting everyone in little platic bubbles from day 1\n",
    "    - 3D plot for 2x sweep of length and preemptiveness \n",
    "    \n",
    "    \n",
    "Step 7: Everything is a normal distribution\n",
    "\n",
    "\n",
    "Step 8: git push origin master"
   ]
  },
  {
   "cell_type": "code",
   "execution_count": 1,
   "metadata": {},
   "outputs": [],
   "source": [
    "#import all the libraries\n",
    "from modsim import *\n",
    "import random\n",
    "import pandas as pd\n",
    "import numpy as np\n",
    "import matplotlib.pyplot as plt\n",
    "\n",
    "# Configure Jupyter so figures appear in the notebook\n",
    "%matplotlib inline\n",
    "\n",
    "# Configure Jupyter to display the assigned value after an assignment\n",
    "%config InteractiveShell.ast_node_interactivity='last_expr_or_assign'"
   ]
  },
  {
   "cell_type": "code",
   "execution_count": 197,
   "metadata": {},
   "outputs": [
    {
     "data": {
      "text/plain": [
       "5.405405405405443"
      ]
     },
     "execution_count": 197,
     "metadata": {},
     "output_type": "execute_result"
    }
   ],
   "source": [
    "T_0    = 0.0\n",
    "\n",
    "#first semester is 111 days spent at olin\n",
    "T_END  = 111.0\n",
    "\n",
    "dt     = 1/24\n",
    "\n",
    "pop    = 380.0\n",
    "\n",
    "#Assume Symptomns appear after 3 days, days sick = reported vale + 3\n",
    "t_sick = 7.185 + 3\n",
    "\n",
    "#Quarrantine Rate \n",
    "#Assume Symptoms take 3 days to apear \n",
    "#and students are quarrantined 2 days after symptoms appear\n",
    "alpha = (t_sick-10)/t_sick\n",
    "\n",
    "#Contact Rate\n",
    "#Beta value selected so that total infected matches repoted valye (.583)\n",
    "beta  = 0.1618869\n",
    "\n",
    "#Recovery Rate = 1/Days Sick\n",
    "gamma = 1/t_sick\n",
    "\n",
    "#Quarrantined Recovery Rate\n",
    "#Students ride out the rest of their illness stuck in their room\n",
    "#Again assume \n",
    "delta = 1/(t_sick-10)\n",
    "\n"
   ]
  },
  {
   "cell_type": "markdown",
   "metadata": {},
   "source": [
    "**Chapter 13 Slightly Derivative Stuff**"
   ]
  },
  {
   "cell_type": "code",
   "execution_count": 151,
   "metadata": {},
   "outputs": [],
   "source": [
    "def make_system(beta, gamma):\n",
    "    \"\"\"Make a system object for the SIR model.\n",
    "    \n",
    "    beta: contact rate in days\n",
    "    gamma: recovery rate in days\n",
    "    \n",
    "    returns: System object\n",
    "    \"\"\"\n",
    "    init = State(S=pop-1, I=1, R=0)\n",
    "    init /= np.sum(init)\n",
    "\n",
    "    return System(init=init, t_0=T_0, t_end=T_END,\n",
    "                  beta=beta, gamma=gamma)"
   ]
  },
  {
   "cell_type": "code",
   "execution_count": 152,
   "metadata": {},
   "outputs": [],
   "source": [
    "def run_simulation(system, update_func):\n",
    "    \"\"\"Runs a simulation of the system.\n",
    "        \n",
    "    system: System object\n",
    "    update_func: function that updates state\n",
    "    \n",
    "    returns: TimeFrame\n",
    "    \"\"\"\n",
    "    unpack(system)\n",
    "    \n",
    "    frame = TimeFrame(columns=init.index)\n",
    "    frame.row[t_0] = init\n",
    "    \n",
    "    for t in linrange(t_0, t_end):\n",
    "        frame.row[t+1] = update_func(frame.row[t], t, system)\n",
    "    \n",
    "    return frame"
   ]
  },
  {
   "cell_type": "code",
   "execution_count": 153,
   "metadata": {},
   "outputs": [],
   "source": [
    "def plot_SIR(frame):\n",
    "    \"\"\"Plot the results of a SIR model.\n",
    "    \n",
    "    S: TimeSeries\n",
    "    I: TimeSeries\n",
    "    R: TimeSeries\n",
    "    \"\"\"\n",
    "    \n",
    "    #S, I, R = frame\n",
    "    \n",
    "    plot(frame.S, '--', label='Susceptible')\n",
    "    plot(frame.I, '-', label='Infected')\n",
    "    plot(frame.R, ':', label='Recovered')\n",
    "    decorate(xlabel='Time (days)',\n",
    "             ylabel='Fraction of population')"
   ]
  },
  {
   "cell_type": "code",
   "execution_count": 154,
   "metadata": {},
   "outputs": [],
   "source": [
    "def update_func(state, t, system):\n",
    "    \"\"\"Update the SIR model.\n",
    "    \n",
    "    state: State (s, i, r)\n",
    "    t: time\n",
    "    system: System object\n",
    "    \n",
    "    returns: State (sir)\n",
    "    \"\"\"\n",
    "    s, i, r = state\n",
    "\n",
    "    for n in range (int(1/dt)):\n",
    "        infected = system.beta * i * s    \n",
    "        recovered = system.gamma * i\n",
    "    \n",
    "        s -= infected\n",
    "        i += infected - recovered\n",
    "        r += recovered\n",
    "    \n",
    "    return State(S=s, I=i, R=r)"
   ]
  },
  {
   "cell_type": "code",
   "execution_count": 155,
   "metadata": {},
   "outputs": [],
   "source": [
    "def slope_SIR(state, t, system):\n",
    "    \"\"\"Update the SIR model.\n",
    "    \n",
    "    state: State (s, i, r)\n",
    "    t: time\n",
    "    system: System object\n",
    "    \n",
    "    returns: State (sir)\n",
    "    \"\"\"\n",
    "    s, i, r = state\n",
    "\n",
    "    dSdt = -system.beta * i * s\n",
    "    dIdt = system.beta * i * s - system.gamma * i\n",
    "    dRdt = system.gamma * i\n",
    "\n",
    "    \n",
    "    return dSdt, dIdt, dRdt"
   ]
  },
  {
   "cell_type": "code",
   "execution_count": 156,
   "metadata": {},
   "outputs": [],
   "source": [
    "def calc_total_infected(results):\n",
    "    \"\"\"Fraction of population infected during the simulation.\n",
    "    \n",
    "    results: DataFrame with columns S, I, R\n",
    "    \n",
    "    returns: fraction of population\n",
    "    \"\"\"\n",
    "    return get_first_value(results.S) - get_last_value(results.S)"
   ]
  },
  {
   "cell_type": "markdown",
   "metadata": {},
   "source": [
    "**Things That Are Fun, New, and Exciting!**"
   ]
  },
  {
   "cell_type": "markdown",
   "metadata": {},
   "source": [
    "**Step 1**"
   ]
  },
  {
   "cell_type": "code",
   "execution_count": 179,
   "metadata": {},
   "outputs": [
    {
     "data": {
      "text/plain": [
       "0.5830255167589706"
      ]
     },
     "execution_count": 179,
     "metadata": {},
     "output_type": "execute_result"
    },
    {
     "data": {
      "image/png": "[encoded data removed]",
      "text/plain": [
       "<Figure size 432x288 with 1 Axes>"
      ]
     },
     "metadata": {},
     "output_type": "display_data"
    }
   ],
   "source": [
    "sir = make_system(beta, gamma)\n",
    "results, details = run_ode_solver(sir, \n",
    "                                  slope_SIR, \n",
    "                                  t_eval = linrange(system.t_0, system.t_end, dt)\n",
    "                                 )\n",
    "\n",
    "plot_SIR(results)\n",
    "results.head\n",
    "#details\n",
    "calc_total_infected(results)"
   ]
  },
  {
   "cell_type": "markdown",
   "metadata": {},
   "source": [
    "**Step 2**\n",
    "\n",
    "\n",
    "Main issue with quarrantine model = stops disease far to effectively and quickly. Wai"
   ]
  },
  {
   "cell_type": "code",
   "execution_count": 198,
   "metadata": {},
   "outputs": [],
   "source": [
    "def make_system_Q(alpha, beta, gamma, delta):\n",
    "    \"\"\"Make a system object for the SIR model.\n",
    "    \n",
    "    beta: contact rate in days\n",
    "    gamma: recovery rate in days\n",
    "    \n",
    "    returns: System object\n",
    "    \"\"\"\n",
    "    init = State(S=pop-1, I=1, R=0, Q=0)\n",
    "    init /= np.sum(init)\n",
    "\n",
    "    return System(init=init, t_0=T_0, t_end=T_END,\n",
    "                  alpha=alpha, beta=beta, gamma=gamma, delta=delta)"
   ]
  },
  {
   "cell_type": "code",
   "execution_count": 199,
   "metadata": {},
   "outputs": [],
   "source": [
    "def slope_SIRQ(state, t, system):\n",
    "    \"\"\"Update the SIR model.\n",
    "    \n",
    "    state: State (s, i, r)\n",
    "    t: time\n",
    "    system: System object\n",
    "    \n",
    "    returns: State (sir)\n",
    "    \"\"\"\n",
    "    s, i, r, q = state\n",
    "    \n",
    "    dSdt = -system.beta * i * s\n",
    "    dIdt = system.beta * i * s - system.gamma * i - system.alpha * i\n",
    "    dRdt = system.gamma * i + system.delta * q\n",
    "    dQdt = system.alpha * i - system.delta * q\n",
    "    \n",
    "\n",
    "    \n",
    "    return dSdt, dIdt, dRdt, dQdt"
   ]
  },
  {
   "cell_type": "code",
   "execution_count": 200,
   "metadata": {},
   "outputs": [],
   "source": [
    "def plot_SIRQ(frame):\n",
    "    \"\"\"Plot the results of a SIR model.\n",
    "    \n",
    "    S: TimeSeries\n",
    "    I: TimeSeries\n",
    "    R: TimeSeries\n",
    "    Q: TimeSeries\n",
    "    \"\"\"\n",
    "\n",
    "    \n",
    "    plot(frame.S, '--', label='Susceptible')\n",
    "    plot(frame.I, '-', label='Infected')\n",
    "    plot(frame.R, ':', label='Recovered')\n",
    "    plot(frame.Q, '-o', label='Quarrantined')\n",
    "    decorate(xlabel='Time (days)',\n",
    "             ylabel='Fraction of population')"
   ]
  },
  {
   "cell_type": "code",
   "execution_count": 201,
   "metadata": {},
   "outputs": [
    {
     "data": {
      "text/plain": [
       "0.3613296920722586"
      ]
     },
     "execution_count": 201,
     "metadata": {},
     "output_type": "execute_result"
    },
    {
     "data": {
      "image/png": "[encoded data removed]",
      "text/plain": [
       "<Figure size 432x288 with 1 Axes>"
      ]
     },
     "metadata": {},
     "output_type": "display_data"
    }
   ],
   "source": [
    "sirq = make_system_Q(alpha, beta, gamma, delta)\n",
    "results, details = run_ode_solver(sirq, \n",
    "                                  slope_SIRQ, \n",
    "                                  t_eval = linrange(system.t_0, system.t_end, dt)\n",
    "                                 )\n",
    "\n",
    "plot_SIRQ(results)\n",
    "results.head\n",
    "#details\n",
    "calc_total_infected(results)"
   ]
  },
  {
   "cell_type": "markdown",
   "metadata": {},
   "source": [
    "**Step 3**"
   ]
  },
  {
   "cell_type": "code",
   "execution_count": 8,
   "metadata": {},
   "outputs": [],
   "source": [
    "#code"
   ]
  },
  {
   "cell_type": "markdown",
   "metadata": {},
   "source": [
    "**Step 4**"
   ]
  },
  {
   "cell_type": "code",
   "execution_count": 9,
   "metadata": {},
   "outputs": [],
   "source": [
    "#code"
   ]
  },
  {
   "cell_type": "markdown",
   "metadata": {},
   "source": [
    "**Step 5**"
   ]
  },
  {
   "cell_type": "code",
   "execution_count": 10,
   "metadata": {},
   "outputs": [],
   "source": [
    "#code"
   ]
  },
  {
   "cell_type": "markdown",
   "metadata": {},
   "source": [
    "**Step 6**"
   ]
  },
  {
   "cell_type": "code",
   "execution_count": 11,
   "metadata": {},
   "outputs": [],
   "source": [
    "#code"
   ]
  },
  {
   "cell_type": "markdown",
   "metadata": {},
   "source": [
    "**Step 7**"
   ]
  },
  {
   "cell_type": "code",
   "execution_count": 12,
   "metadata": {},
   "outputs": [],
   "source": [
    "#code"
   ]
  },
  {
   "cell_type": "code",
   "execution_count": null,
   "metadata": {},
   "outputs": [],
   "source": []
  }
 ],
 "metadata": {
  "kernelspec": {
   "display_name": "Python 3",
   "language": "python",
   "name": "python3"
  },
  "language_info": {
   "codemirror_mode": {
    "name": "ipython",
    "version": 3
   },
   "file_extension": ".py",
   "mimetype": "text/x-python",
   "name": "python",
   "nbconvert_exporter": "python",
   "pygments_lexer": "ipython3",
   "version": "3.6.5"
  }
 },
 "nbformat": 4,
 "nbformat_minor": 2
}
