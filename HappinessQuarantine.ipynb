{
 "cells": [
  {
   "cell_type": "markdown",
   "metadata": {},
   "source": [
    "Baseline Happiness:\n",
    "mean  = 6.828\n",
    "stdev = 1.761\n",
    "\n",
    "Lonely Happiness:\n",
    "mean  = 5.290\n",
    "stdev = 2.348\n",
    "\n",
    "Sick Happiness:\n",
    "mean  = 3.204\n",
    "stdev = 1.441\n",
    "\n",
    "Healthy contacts/day:\n",
    "mean  = 25.880\n",
    "stdev = 19.396\n",
    "\n",
    "Sick contacts/day:\n",
    "mean  = 15.547\n",
    "stdev = 12.598"
   ]
  },
  {
   "cell_type": "markdown",
   "metadata": {},
   "source": [
    "Step 1: Build SIR Model for Olin\n",
    "    - Use Survey data:\n",
    "        - Contact Rate\n",
    "        - Recovery Speed\n",
    "        - Infection Rate\n",
    "    \n",
    "    \n",
    "Step 2: Add Quarantine\n",
    "    - Keep a working version without Quarrantine\n",
    "    - I -> Q\n",
    "    - Can only infect roommate?\n",
    "        - 1 interaction per day\n",
    "\n",
    "\n",
    "Step 3: Create Happines\n",
    "    - Assign baseline happiness\n",
    "    - Calculate lonliness and sadness modifiers\n",
    "    - Stretch Goal: Stress Strain model to account for missing work/length of quarrantine\n",
    "    \n",
    "\n",
    "Step 4: Integrate Happiness\n",
    "    - Being sick = less happy\n",
    "    - Being alone = less happy\n",
    "    - Being sick and alone = lonliness modifier * sickness modifier\n",
    "    \n",
    "    \n",
    "Step 5: Add Quarrantine Agressiveness Params\n",
    "    - Quarantine Lengths\n",
    "    - False Positives for Symptoms?\n",
    "    - Random Pre-Emptive Isolation???\n",
    "\n",
    "\n",
    "Step 6: Sweep Quarantine Agressiveness\n",
    "    - Multiple Line plots ranging from no quarantine to putting everyone in little platic bubbles from day 1\n",
    "    - 3D plot for 2x sweep of length and preemptiveness \n",
    "    \n",
    "    \n",
    "Step 7: Everything is a normal distribution\n",
    "\n",
    "\n",
    "Step 8: git push origin master"
   ]
  }
 ],
 "metadata": {
  "kernelspec": {
   "display_name": "Python 3",
   "language": "python",
   "name": "python3"
  },
  "language_info": {
   "codemirror_mode": {
    "name": "ipython",
    "version": 3
   },
   "file_extension": ".py",
   "mimetype": "text/x-python",
   "name": "python",
   "nbconvert_exporter": "python",
   "pygments_lexer": "ipython3",
   "version": "3.6.5"
  }
 },
 "nbformat": 4,
 "nbformat_minor": 2
}
