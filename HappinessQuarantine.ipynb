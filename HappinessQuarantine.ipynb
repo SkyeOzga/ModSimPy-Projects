{
 "cells": [
  {
   "cell_type": "markdown",
   "metadata": {},
   "source": [
    "Baseline Happiness:\n",
    "mean  = 6.828\n",
    "stdev = 1.761\n",
    "\n",
    "Lonely Happiness:\n",
    "mean  = 5.290\n",
    "stdev = 2.348\n",
    "\n",
    "Sick Happiness:\n",
    "mean  = 3.204\n",
    "stdev = 1.441\n",
    "\n",
    "Healthy contacts/day:\n",
    "mean  = 25.880\n",
    "stdev = 19.396\n",
    "\n",
    "Sick contacts/day:\n",
    "mean  = 15.547\n",
    "stdev = 12.598\n"
   ]
  }
 ],
 "metadata": {
  "kernelspec": {
   "display_name": "Python 3",
   "language": "python",
   "name": "python3"
  },
  "language_info": {
   "codemirror_mode": {
    "name": "ipython",
    "version": 3
   },
   "file_extension": ".py",
   "mimetype": "text/x-python",
   "name": "python",
   "nbconvert_exporter": "python",
   "pygments_lexer": "ipython3",
   "version": "3.6.5"
  }
 },
 "nbformat": 4,
 "nbformat_minor": 2
}
