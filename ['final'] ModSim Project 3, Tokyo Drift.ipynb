{
 "cells": [
  {
   "cell_type": "code",
   "execution_count": 87,
   "metadata": {},
   "outputs": [],
   "source": [
    "# Configure Jupyter so figures appear in the notebook\n",
    "%matplotlib inline\n",
    "\n",
    "# Configure Jupyter to display the assigned value after an assignment\n",
    "%config InteractiveShell.ast_node_interactivity='last_expr_or_assign'\n",
    "\n",
    "# import functions from the modsim.py module\n",
    "from modsim import *\n",
    "\n",
    "import pandas as pd\n",
    "import numpy as np\n",
    "\n",
    "import matplotlib as mpl\n",
    "from mpl_toolkits.mplot3d import Axes3D\n",
    "import numpy as np\n",
    "import matplotlib.pyplot as plt\n",
    "\n",
    "from multiprocessing import process\n",
    "from IPython.display import display, Math, Latex\n",
    "\n",
    "\n",
    "mpl.rcParams['legend.fontsize'] = 10"
   ]
  },
  {
   "cell_type": "markdown",
   "metadata": {},
   "source": [
    "# **Question:** What does it take to make a car lose control while cornering?"
   ]
  },
  {
   "cell_type": "markdown",
   "metadata": {},
   "source": [
    "Given a car with a known mass, wheelbase and tire characteristics, what kind of inputs can a driver safely make without losing control and spinning out?"
   ]
  },
  {
   "cell_type": "markdown",
   "metadata": {},
   "source": [
    "# **Model**\n",
    "\n",
    "To answer this question, we used a model of the frictional forces acting on the driven rear wheels and the steering front wheels of a car.\n",
    "\n",
    "For the sake of simplicity, we made a few assumptions to make our model more manageable. We considered weight transfer to be negligeable which meant that we were able to go with a single track (one front and one rear wheel) model of a vehicle. In addition, we assumed that no driving or braking torques would be applied to the front wheel, so we were able to disregard the longitudinal component of its frictional force. We also ignored air resistance of the vehicle and rolling resistance of the axles.\n",
    "\n",
    "We feel that these are safe assumptions because, although there are other forces acting on an automobile in motion, friction is by far the most important to the path it takes. It is valid to sacrifice some fidelity for an attempt to make the model more manageable."
   ]
  },
  {
   "cell_type": "markdown",
   "metadata": {},
   "source": [
    "**Variables Used:**\n",
    "\n",
    "**positive -> counterclockwise for all angles, everything is in SI base units and all angles in radians**\n",
    "\n",
    "alpha = angle of slip between wheel and wheel velocity \n",
    "\n",
    "beta  = angular displacement of the car relative to the X axis\n",
    "\n",
    "Wb    = rate of change of beta \n",
    "\n",
    "gamma = angle of slideslip between velocity vector and longitudinal axis of car\n",
    "\n",
    "\n",
    "delta = steering angle\n",
    "\n",
    "w     = driven (rear) wheel angular speed\n",
    "\n",
    "\n",
    "X, Y, Vx, Vy = position and velocity of the car in the x-y plane\n",
    "\n",
    "\n",
    "r = tire radius\n",
    "\n",
    "I = moment of inertia of the car about its center of gravity\n",
    "\n",
    "l = wheelbase of car\n",
    "\n",
    "m = mass of car\n",
    "\n",
    "B, C, D, E, K = Tire parameters for BNP Magic Formula"
   ]
  },
  {
   "cell_type": "code",
   "execution_count": 95,
   "metadata": {},
   "outputs": [
    {
     "data": {
      "text/html": [
       "<div>\n",
       "<style scoped>\n",
       "    .dataframe tbody tr th:only-of-type {\n",
       "        vertical-align: middle;\n",
       "    }\n",
       "\n",
       "    .dataframe tbody tr th {\n",
       "        vertical-align: top;\n",
       "    }\n",
       "\n",
       "    .dataframe thead th {\n",
       "        text-align: right;\n",
       "    }\n",
       "</style>\n",
       "<table border=\"1\" class=\"dataframe\">\n",
       "  <thead>\n",
       "    <tr style=\"text-align: right;\">\n",
       "      <th></th>\n",
       "      <th>values</th>\n",
       "    </tr>\n",
       "  </thead>\n",
       "  <tbody>\n",
       "    <tr>\n",
       "      <th>B</th>\n",
       "      <td>0.08</td>\n",
       "    </tr>\n",
       "    <tr>\n",
       "      <th>C</th>\n",
       "      <td>1.44</td>\n",
       "    </tr>\n",
       "    <tr>\n",
       "      <th>D</th>\n",
       "      <td>6004.00</td>\n",
       "    </tr>\n",
       "    <tr>\n",
       "      <th>E</th>\n",
       "      <td>-1.84</td>\n",
       "    </tr>\n",
       "    <tr>\n",
       "      <th>K</th>\n",
       "      <td>90.00</td>\n",
       "    </tr>\n",
       "  </tbody>\n",
       "</table>\n",
       "</div>"
      ],
      "text/plain": [
       "B       0.08\n",
       "C       1.44\n",
       "D    6004.00\n",
       "E      -1.84\n",
       "K      90.00\n",
       "dtype: float64"
      ]
     },
     "execution_count": 95,
     "metadata": {},
     "output_type": "execute_result"
    }
   ],
   "source": [
    "#Control inputs\n",
    "\n",
    "#Rear wheel speed as a function of time\n",
    "def wFunc(t):\n",
    "    #sets rear wheel speed to a constant 10 rads / sec\n",
    "    w = 10\n",
    "    return w\n",
    "\n",
    "deg = np.pi/180\n",
    "\n",
    "#Steering angle as a function of time\n",
    "def dFunc(t):\n",
    "    #sets steering angle to a constant 30 degrees\n",
    "    d = -30*deg\n",
    "\n",
    "    return d\n",
    "\n",
    "#Parameters of the car\n",
    "r = 0.3         #radius of the tires\n",
    "I = 2500        #car's moment of inertia about the center of gravity\n",
    "l = 2.52        #wheelbase, distance between front and rear axle\n",
    "m = 1250        #mass of the car\n",
    "\n",
    "#P225/60R16 tire parameters for the BNP Magic formula\n",
    "Fxk = Params(B = 0.12, C = 1.48, D = 3308, E = 0.01, K = 100)\n",
    "Fya = Params(B = 0.08, C = 1.44, D = 6004, E = -1.84, K = 90)\n"
   ]
  },
  {
   "cell_type": "markdown",
   "metadata": {},
   "source": [
    "Our model takes rear wheel speed and steering angle as its inputs, as those are the variables you can reasonably control as a driver. All initial conditions are set to zero as a reference point, except for initial velocity which is calculated as the tire radius times the initial angular speed of the rear wheel. We feel it is safe to assume that the car had accelerated safely to whichever speed the driver chooses to begin their w function."
   ]
  },
  {
   "cell_type": "code",
   "execution_count": 67,
   "metadata": {},
   "outputs": [],
   "source": [
    "def make_system(wFunc, dFunc, end, dt):\n",
    "    \"\"\"Generates a system obejct to be used with update_func\n",
    "        \n",
    "    wFunc: rear wheel angular speed (rads / sec) as a function of time (seconds)\n",
    "    dFunc: steering angle (radians) as a function of time (seconds)\n",
    "    end:   length of time to run the simulation (seconds)\n",
    "    dt:    length of each time step (seconds)\n",
    "    \n",
    "    returns: System Object\n",
    "    \"\"\"\n",
    "    system = System(init = State(Vx = r*wFunc(0), Vy = 0, X = 0, Y = 0, B = 0, Wb=0),\n",
    "                debug = State(af = 0, ar = 0, kf = 0, kr = 0, w = wFunc(0), g = 0, d = dFunc(0), theta = 0, FlongitudinalF = 0, FlongitudinalR = 0, \n",
    "                              FlateralF = 0, FlateralR = 0, Fxwf = 0, Fywf = 0, Fxf = 0, Fyf = 0, Fxr = 0, Fyr = 0, Torque = 0),\n",
    "                wFunc = wFunc,\n",
    "                dFunc = dFunc,\n",
    "                r = r,\n",
    "                I = I,\n",
    "                l = l,\n",
    "                m = m,\n",
    "                Fxk = Fxk,\n",
    "                Fya = Fya,\n",
    "                t_0 = 0,\n",
    "                dt  = dt,\n",
    "                t_end = end)\n",
    "    \n",
    "    return system"
   ]
  },
  {
   "cell_type": "code",
   "execution_count": 68,
   "metadata": {},
   "outputs": [],
   "source": [
    "def make_system_ODE(wFunc, dFunc, end):\n",
    "    \"\"\"Generates a system obejct to be used with ODE Solver\n",
    "        \n",
    "    wFunc: rear wheel angular speed (rads / sec) as a function of time (seconds)\n",
    "    dFunc: steering angle (radians) as a function of time (seconds)\n",
    "    end:   length of time to run the simulation (seconds)\n",
    "    \n",
    "    returns: System Object\n",
    "    \"\"\"\n",
    "    system = System(init = State(Vx = r*wFunc(0), Vy = 0, X = 0, Y = 0, B = 0, Wb = 0),\n",
    "                wFunc = wFunc,\n",
    "                dFunc = dFunc,\n",
    "                r = r,\n",
    "                I = I,\n",
    "                l = l,\n",
    "                h = h,\n",
    "                m = m,\n",
    "                Fxk = Fxk,\n",
    "                Fya = Fya,\n",
    "                t_0 = 0,\n",
    "                t_end = end)\n",
    "\n",
    "    return system"
   ]
  },
  {
   "cell_type": "markdown",
   "metadata": {},
   "source": [
    "We chose to implement our model both as an ODE solver to gain a better understanding of the differential equations and physics acting in the system, and as an update func due to its versatility, debugging tools, and quicker runtimes."
   ]
  },
  {
   "cell_type": "code",
   "execution_count": 69,
   "metadata": {},
   "outputs": [
    {
     "data": {
      "text/html": [
       "<div>\n",
       "<style scoped>\n",
       "    .dataframe tbody tr th:only-of-type {\n",
       "        vertical-align: middle;\n",
       "    }\n",
       "\n",
       "    .dataframe tbody tr th {\n",
       "        vertical-align: top;\n",
       "    }\n",
       "\n",
       "    .dataframe thead th {\n",
       "        text-align: right;\n",
       "    }\n",
       "</style>\n",
       "<table border=\"1\" class=\"dataframe\">\n",
       "  <thead>\n",
       "    <tr style=\"text-align: right;\">\n",
       "      <th></th>\n",
       "      <th>values</th>\n",
       "    </tr>\n",
       "  </thead>\n",
       "  <tbody>\n",
       "    <tr>\n",
       "      <th>init</th>\n",
       "      <td>Vx    3.0\n",
       "Vy    0.0\n",
       "X     0.0\n",
       "Y     0.0\n",
       "B     ...</td>\n",
       "    </tr>\n",
       "    <tr>\n",
       "      <th>wFunc</th>\n",
       "      <td>&lt;function wFunc at 0x7f0493708400&gt;</td>\n",
       "    </tr>\n",
       "    <tr>\n",
       "      <th>dFunc</th>\n",
       "      <td>&lt;function dFunc at 0x7f0493708158&gt;</td>\n",
       "    </tr>\n",
       "    <tr>\n",
       "      <th>r</th>\n",
       "      <td>0.3</td>\n",
       "    </tr>\n",
       "    <tr>\n",
       "      <th>I</th>\n",
       "      <td>2500</td>\n",
       "    </tr>\n",
       "    <tr>\n",
       "      <th>l</th>\n",
       "      <td>2.52</td>\n",
       "    </tr>\n",
       "    <tr>\n",
       "      <th>h</th>\n",
       "      <td>0.28</td>\n",
       "    </tr>\n",
       "    <tr>\n",
       "      <th>m</th>\n",
       "      <td>1250</td>\n",
       "    </tr>\n",
       "    <tr>\n",
       "      <th>Fxk</th>\n",
       "      <td>B       0.12\n",
       "C       1.48\n",
       "D    3308.00\n",
       "E      ...</td>\n",
       "    </tr>\n",
       "    <tr>\n",
       "      <th>Fya</th>\n",
       "      <td>B       0.08\n",
       "C       1.44\n",
       "D    6004.00\n",
       "E      ...</td>\n",
       "    </tr>\n",
       "    <tr>\n",
       "      <th>t_0</th>\n",
       "      <td>0</td>\n",
       "    </tr>\n",
       "    <tr>\n",
       "      <th>t_end</th>\n",
       "      <td>10</td>\n",
       "    </tr>\n",
       "  </tbody>\n",
       "</table>\n",
       "</div>"
      ],
      "text/plain": [
       "init     Vx    3.0\n",
       "Vy    0.0\n",
       "X     0.0\n",
       "Y     0.0\n",
       "B     ...\n",
       "wFunc                   <function wFunc at 0x7f0493708400>\n",
       "dFunc                   <function dFunc at 0x7f0493708158>\n",
       "r                                                      0.3\n",
       "I                                                     2500\n",
       "l                                                     2.52\n",
       "h                                                     0.28\n",
       "m                                                     1250\n",
       "Fxk      B       0.12\n",
       "C       1.48\n",
       "D    3308.00\n",
       "E      ...\n",
       "Fya      B       0.08\n",
       "C       1.44\n",
       "D    6004.00\n",
       "E      ...\n",
       "t_0                                                      0\n",
       "t_end                                                   10\n",
       "dtype: object"
      ]
     },
     "execution_count": 69,
     "metadata": {},
     "output_type": "execute_result"
    }
   ],
   "source": [
    "system = make_system(wFunc, dFunc, 10, 0.01)\n",
    "systemODE = make_system_ODE(wFunc, dFunc, 10)"
   ]
  },
  {
   "cell_type": "markdown",
   "metadata": {},
   "source": [
    "<img src='FBD.jpg' width=300 title='FBD'>"
   ]
  },
  {
   "cell_type": "markdown",
   "metadata": {},
   "source": [
    "Our model at its core comes down to 3 differential equations:"
   ]
  },
  {
   "cell_type": "code",
   "execution_count": 93,
   "metadata": {},
   "outputs": [
    {
     "data": {
      "text/latex": [
       "$$\\sum {F_{x}} = m {\\frac{{\\mathrm{d} }^{2}x}{\\mathrm{d} {t^{2}}}}$$"
      ],
      "text/plain": [
       "<IPython.core.display.Math object>"
      ]
     },
     "metadata": {},
     "output_type": "display_data"
    },
    {
     "name": "stdout",
     "output_type": "stream",
     "text": [
      "\n"
     ]
    },
    {
     "data": {
      "text/latex": [
       "$$\\sum {F_{y}} = m {\\frac{{\\mathrm{d} }^{2}y}{\\mathrm{d} {t^{2}}}}$$"
      ],
      "text/plain": [
       "<IPython.core.display.Math object>"
      ]
     },
     "metadata": {},
     "output_type": "display_data"
    },
    {
     "name": "stdout",
     "output_type": "stream",
     "text": [
      "\n"
     ]
    },
    {
     "data": {
      "text/latex": [
       "$$\\sum {\\tau } = I {\\frac{{\\mathrm{d} }^{2}\\beta }{\\mathrm{d} {t^{2}}}}$$"
      ],
      "text/plain": [
       "<IPython.core.display.Math object>"
      ]
     },
     "metadata": {},
     "output_type": "display_data"
    }
   ],
   "source": [
    "display(Math(r'\\sum {F_{x}} = m {\\frac{{\\mathrm{d} }^{2}x}{\\mathrm{d} {t^{2}}}}'))\n",
    "print()\n",
    "display(Math(r'\\sum {F_{y}} = m {\\frac{{\\mathrm{d} }^{2}y}{\\mathrm{d} {t^{2}}}}'))\n",
    "print()\n",
    "display(Math(r'\\sum {\\tau } = I {\\frac{{\\mathrm{d} }^{2}\\beta }{\\mathrm{d} {t^{2}}}}'))"
   ]
  },
  {
   "cell_type": "markdown",
   "metadata": {},
   "source": [
    "Which, due to our limitation to first order ODEs become"
   ]
  },
  {
   "cell_type": "code",
   "execution_count": 94,
   "metadata": {},
   "outputs": [
    {
     "data": {
      "text/latex": [
       "$$\\sum {F_{x} } = m {\\frac{{\\mathrm{d} }v_{x} }{\\mathrm{d} t}}\\; \\; \\; \\; \\; v_{x} = \\frac{\\mathrm{d} x}{\\mathrm{d} t}$$"
      ],
      "text/plain": [
       "<IPython.core.display.Math object>"
      ]
     },
     "metadata": {},
     "output_type": "display_data"
    },
    {
     "name": "stdout",
     "output_type": "stream",
     "text": [
      "\n"
     ]
    },
    {
     "data": {
      "text/latex": [
       "$$\\sum {F_{x} } = m {\\frac{{\\mathrm{d} }v_{y} }{\\mathrm{d} t}}\\; \\; \\; \\; \\; v_{y} = \\frac{\\mathrm{d} y}{\\mathrm{d} t}$$"
      ],
      "text/plain": [
       "<IPython.core.display.Math object>"
      ]
     },
     "metadata": {},
     "output_type": "display_data"
    },
    {
     "name": "stdout",
     "output_type": "stream",
     "text": [
      "\n"
     ]
    },
    {
     "data": {
      "text/latex": [
       "$$\\sum {\\tau  } = I {\\frac{{\\mathrm{d} }\\omega _{\\beta } }{\\mathrm{d} t}}\\; \\; \\; \\; \\; \\omega _{\\beta } = \\frac{\\mathrm{d} \\beta }{\\mathrm{d} t}$$"
      ],
      "text/plain": [
       "<IPython.core.display.Math object>"
      ]
     },
     "metadata": {},
     "output_type": "display_data"
    }
   ],
   "source": [
    "display(Math(r'\\sum {F_{x} } = m {\\frac{{\\mathrm{d} }v_{x} }{\\mathrm{d} t}}\\; \\; \\; \\; \\; v_{x} = \\frac{\\mathrm{d} x}{\\mathrm{d} t}'))\n",
    "print()\n",
    "display(Math(r'\\sum {F_{x} } = m {\\frac{{\\mathrm{d} }v_{y} }{\\mathrm{d} t}}\\; \\; \\; \\; \\; v_{y} = \\frac{\\mathrm{d} y}{\\mathrm{d} t}'))\n",
    "print()\n",
    "display(Math(r'\\sum {\\tau  } = I {\\frac{{\\mathrm{d} }\\omega _{\\beta } }{\\mathrm{d} t}}\\; \\; \\; \\; \\; \\omega _{\\beta } = \\frac{\\mathrm{d} \\beta }{\\mathrm{d} t}'))\n"
   ]
  },
  {
   "cell_type": "markdown",
   "metadata": {},
   "source": [
    "The complexity of the model comes in the way the forces are calculated. Friction at each wheel is sequentially calculated from two different formulas, which rely on the angle and ratio of slip relative to the orientation of each wheel which is part of the cars axes which are constantly changing relative to the X-Y plane based on the angular displacement, which is in turn governed by those forces, and everything is constantly needing to be componentized and it gets out of hand quite quickly. Because of this, a large part of our python implementation was centered around breaking down these convoluted calculations into function calls."
   ]
  },
  {
   "cell_type": "code",
   "execution_count": 71,
   "metadata": {},
   "outputs": [],
   "source": [
    "def gamma(Vx, Vy, B):\n",
    "    \"\"\"Calculates angle gamma (in radians) between the positive Longitudnial axis of the car and the velocity vector \n",
    "        \n",
    "    Vx: velocity of the center of gravity of the car in the X direction (meters / sec)\n",
    "    Vy: velocity of the center of gravity of the car in the Y direction (meters / sec)\n",
    "    B:  angular displacement beta between the car's Longitudinal axis and the positive X axis (radians)\n",
    "    \n",
    "    returns: float\n",
    "    \"\"\"\n",
    "    \n",
    "    #prevent dividing by zero\n",
    "    if Vx == 0:\n",
    "        Vx = 1e-99\n",
    "        \n",
    "    theta = np.arctan(Vy / Vx)\n",
    "    \n",
    "    #calculates theta as total angular displacement\n",
    "    if(Vx < 0):\n",
    "        theta += np.pi\n",
    "    elif(Vy < 0):\n",
    "        theta += 2*np.pi\n",
    "        \n",
    "    revs = B // (2*np.pi)\n",
    "    theta += revs * 2 * np.pi\n",
    "        \n",
    "    g = theta - B\n",
    "    return g"
   ]
  },
  {
   "cell_type": "code",
   "execution_count": 72,
   "metadata": {},
   "outputs": [],
   "source": [
    "def norm(x, y):\n",
    "    \"\"\"Calculates absolute value of a vector\n",
    "        \n",
    "    x: X component\n",
    "    y: Y component\n",
    "    \n",
    "    returns: float\n",
    "    \"\"\"\n",
    "    \n",
    "    norm = (x**2+y**2)**.5\n",
    "    return norm"
   ]
  },
  {
   "cell_type": "code",
   "execution_count": 75,
   "metadata": {},
   "outputs": [],
   "source": [
    "def AlphaF(sys, Vx, Vy, B, Wb, g, d):\n",
    "    \"\"\"Calculates slip angle alpha (in radians) between the direction the front wheel is pointed and the velocity of the wheel\n",
    "    \n",
    "    sys: System Object\n",
    "    Vx:  velocity of the center of gravity of the car in the X direction (meters / sec)\n",
    "    Vy:  velocity of the center of gravity of the car in the Y direction (meters / sec)\n",
    "    B:   angular displacement beta between the car's Longitudinal axis and the positive X axis (radians)\n",
    "    Wb:  rate of change of beta, angular speed of the car rotating about its center of gravity (radians / sec)\n",
    "    g:   angle gamma between the positive Longitudnial axis of the car and the velocity vector (radians)\n",
    "    d:   steering angle delta between the Longitudinal axis of the car and the direction the front wheel is pointed (radians)\n",
    "    \n",
    "    returns: float\n",
    "    \"\"\"\n",
    "    unpack(sys)\n",
    "    \n",
    "    #Recomponentizes velocity relative to Longitudinal axis of the car\n",
    "    V = norm(Vx, Vy)\n",
    "      \n",
    "    Vlongitudinal = V * np.cos(g)\n",
    "    Vlateral      = V * np.sin(g)\n",
    "    \n",
    "    #Factors rotational speed around Cg to find the velocity components acting on the front wheel\n",
    "    VlongitudinalF = Vlongitudinal\n",
    "    VlateralF      = Vlateral + Wb * (l/2)\n",
    "    \n",
    "    #prevents division by zero\n",
    "    if(VlongitudinalF == 0):\n",
    "        VlongitudinalF = 1e-99\n",
    "    \n",
    "    #Finds angle of slip relative to the Longitudinal axis\n",
    "    a = np.arctan(VlateralF / VlongitudinalF)\n",
    "\n",
    "    #corrects for steering angle\n",
    "    af = a - d\n",
    "    \n",
    "    return af\n",
    "    \n",
    "    \n",
    "def AlphaR(sys, Vx, Vy, B, Wb, g):\n",
    "    \"\"\"Calculates slip angle alpha (in radians) between the direction the rear wheel is pointed and the velocity of the wheel\n",
    "    \n",
    "    sys: System Object\n",
    "    Vx:  velocity of the center of gravity of the car in the X direction (meters / sec)\n",
    "    Vy:  velocity of the center of gravity of the car in the Y direction (meters / sec)\n",
    "    B:   angular displacement beta between the car's Longitudinal axis and the positive X axis (radians)\n",
    "    Wb:  rate of change of beta, angular speed of the car rotating about its center of gravity (radians / sec)\n",
    "    g:   angle gamma between the positive Longitudnial axis of the car and the velocity vector (radians)\n",
    "    \n",
    "    returns: float\n",
    "    \"\"\"\n",
    "    \n",
    "    unpack(sys)\n",
    "    \n",
    "    #Recomponentizes velocity relative to Longitudinal axis of the car\n",
    "    V = norm(Vx, Vy)\n",
    "    \n",
    "    Vlongitudinal = V * np.cos(g)\n",
    "    Vlateral      = V * np.sin(g)\n",
    "    \n",
    "    #Factors rotational speed around Cg to find the velocity components acting on the front wheel\n",
    "    VlongitudinalR = Vlongitudinal\n",
    "    VlateralR      = Vlateral - Wb * (l/2)\n",
    "    \n",
    "    #prevents division by zero\n",
    "    if(VlongitudinalR == 0):\n",
    "        VlongitudinalR = 1e-99\n",
    "        \n",
    "    #Finds angle of slip relative to the longitudinal axis\n",
    "    ar = np.arctan(VlateralR / VlongitudinalR)\n",
    "    \n",
    "    return ar"
   ]
  },
  {
   "cell_type": "code",
   "execution_count": 76,
   "metadata": {},
   "outputs": [],
   "source": [
    "def slip(sys, Vx, Vy, g, w, t):\n",
    "    \"\"\"Calculates slip ratio (dimensionless) of the driven rear wheel\n",
    "    \n",
    "    sys: System Object\n",
    "    Vx:  velocity of the car in the X direction (meters / sec)\n",
    "    Vy:  velocity of the car in the Y direction (meters / sec)\n",
    "    g:   angle gamma between the positive Longitudnial axis of the car and the velocity vector (radians)\n",
    "    w:   function of time that gives rear wheel angular speed in radians / sec\n",
    "    t:   time displacement from the beginning of the simulation (seconds)\n",
    "    \n",
    "    returns: float\n",
    "    \"\"\"\n",
    "    \n",
    "    unpack(sys)\n",
    "    \n",
    "    #Recomponentizes velocity relative to Longitudinal axis of the car\n",
    "    V = norm(Vx, Vy)\n",
    "    \n",
    "    Vlongitudinal = V * np.cos(g)\n",
    "    \n",
    "    #Prevent division by zero\n",
    "    if(Vx == 0 and Vy == 0 and w(t) == 0):\n",
    "        K = 1\n",
    "    else:\n",
    "        K = (r * w(t) - Vlongitudinal) / (r * w(t))\n",
    "    \n",
    "    #print(\"slip\")\n",
    "    #print(K)\n",
    "    \n",
    "    return K"
   ]
  },
  {
   "cell_type": "code",
   "execution_count": 78,
   "metadata": {},
   "outputs": [],
   "source": [
    "def BNPFrictionX(sys, k):\n",
    "    \"\"\"Calculates friction (in Newtons) in the Longitudinal direction of the wheel as a function of slip ratio k\n",
    "       (Fx(k) from the BNP Magic formula)\n",
    "    \n",
    "    sys: System Object, Fxk contains parameters representing tire frictional characteristics\n",
    "    k:   slip ratio of Longitudinal velocity to tangential velocity from wheel rotation\n",
    "    \n",
    "    returns: float\n",
    "    \"\"\"  \n",
    "    unpack(sys)\n",
    "    \n",
    "    #Implementing BNP Magic Formula\n",
    "    phi = (1-Fxk.E)*Fxk.K*k + (Fxk.E/Fxk.B)*np.arctan(Fxk.B*Fxk.K*k)\n",
    "    Fx  = Fxk.D*np.sin(Fxk.C*np.arctan(Fxk.B*phi))\n",
    "\n",
    "    \n",
    "    return Fx\n",
    "\n",
    "def BNPFrictionY(sys, a):\n",
    "    \"\"\"Calculates friction (in Newtons) in the Lateral direction of the wheel as a function of slip angle alpha (in radians)\n",
    "       (Fy(a) from the BNP Magic formula)\n",
    "    \n",
    "    sys: System Object, Fya contains parameters representing tire frictional characteristics\n",
    "    a:   slip angle alpha (in radians) between the direction the wheel is pointed and the velocity of the wheel\n",
    "    \n",
    "    returns: float\n",
    "    \"\"\"\n",
    "    unpack(sys)\n",
    "\n",
    "    #Implementing BNP Magic Formula\n",
    "    phi = (1-Fya.E)*Fya.K*a + (Fya.E/Fya.B)*np.arctan(Fya.B*Fya.K*a)\n",
    "    Fy  = Fya.D*np.sin(Fya.C*np.arctan(Fya.B*phi))\n",
    "    \n",
    "    return Fy"
   ]
  },
  {
   "cell_type": "code",
   "execution_count": 79,
   "metadata": {},
   "outputs": [],
   "source": [
    "def NCForceLongitudinal(sys, a, k):\n",
    "    \"\"\"Implements the Nicholas comstock model for tire force to calculate friction (in Newtons) in the Longitudinal direction of the wheel as a function of \n",
    "       slip angle alpha (in radians) and slip ratio k using the Longitudinal and Lateral components of friction from the BNP Magic Formula\n",
    "    \n",
    "    sys: System Object, Fxk contains parameters representing tire frictional characteristics\n",
    "    a:   slip angle alpha (in radians) between the direction the wheel is pointed and the velocity of the wheel\n",
    "    k:   slip ratio of Longitudinal velocity to tangential velocity from wheel rotation\n",
    "    \n",
    "    returns: float\n",
    "    \"\"\"\n",
    "    unpack(sys)    \n",
    "    \n",
    "    Fx = BNPFrictionX(sys, k)\n",
    "    Fy = BNPFrictionY(sys, a)\n",
    "    \n",
    "    #implements model\n",
    "    num   = Fx*Fy*k\n",
    "    denom = (k**2 * Fy**2 + Fx**2 * np.tan(a)**2)**.5\n",
    "    \n",
    "    #Prevents division by zero\n",
    "    if(denom == 0):\n",
    "        return Fx\n",
    "    \n",
    "    F = num/denom\n",
    "    \n",
    "    return F\n",
    "\n",
    "def NCForceLateral(sys, a, k):\n",
    "    \"\"\"Implements the Nicholas comstock model for tire force to calculate friction (in Newtons) in the Lateral direction of the wheel as a function of \n",
    "       slip angle alpha (in radians) and slip ratio k using the Longitudinal and Lateral components of friction from the BNP Magic Formula\n",
    "    \n",
    "    sys: System Object, Fxk contains parameters representing tire frictional characteristics\n",
    "    a:   slip angle alpha (in radians) between the direction the wheel is pointed and the velocity of the wheel\n",
    "    k:   slip ratio of Longitudinal velocity to tangential velocity from wheel rotation\n",
    "    \n",
    "    returns: float\n",
    "    \"\"\"\n",
    "    unpack(sys)    \n",
    "    \n",
    "    Fx = BNPFrictionX(sys, k)\n",
    "    Fy = BNPFrictionY(sys, a)\n",
    "    \n",
    "    #implements model\n",
    "    num   = Fx*Fy*np.tan(a)\n",
    "    denom = (k**2 * Fy**2 + Fx**2 * np.tan(a)**2)**.5\n",
    "    \n",
    "    #prevents division by zero\n",
    "    if(denom == 0):\n",
    "        return Fy\n",
    "    \n",
    "    F = num/denom\n",
    "    \n",
    "    return F"
   ]
  },
  {
   "cell_type": "markdown",
   "metadata": {},
   "source": [
    "Our simulation implements the Nicholas-Comstock model for tire friction which estimates the force on the wheels as a function of tire slip and slip angle. The frictions themselves were calculated using the Bakker-Nyborg-Pacejka formula based on experimentally detemined coefficients that represent the individual properites of a P225/60R16 tire."
   ]
  },
  {
   "cell_type": "code",
   "execution_count": 80,
   "metadata": {},
   "outputs": [],
   "source": [
    "def slopeFunc(state, t, sys):\n",
    "    \"\"\"Calculates the rates of change of the state variables with respect to time (seconds)\n",
    "        \n",
    "    state:  contains positional information about the car in the X-Y plane\n",
    "        X:  displacement of the center of gravity in the X direction (meters)\n",
    "        Y:  displacement of the center of gravity in the Y direction (meters)\n",
    "        Vx: Velocity of the center of gravity in the X direction (meters / sec)\n",
    "        Vx: Velocity of the center of gravity in the X direction (meters / sec)\n",
    "        B:  angular displacement beta between the car's Longitudinal axis and the positive X axis (radians)\n",
    "        Wb: rate of change of beta, angular speed of the car rotating about its center of gravity (radians / sec)\n",
    "        \n",
    "    t:   time displacement from the beginning of the simulation (seconds)\n",
    "    sys: System Object\n",
    "    \n",
    "    returns: dVxdt, dVydt, dXdt, dYdt, dBdt, dWbdt\n",
    "    \"\"\"\n",
    "    unpack(sys)\n",
    "    Vx, Vy, X, Y, B, Wb = state\n",
    "    \n",
    "    V = norm(Vx, Vy)\n",
    "    \n",
    "    d     = dFunc(t)\n",
    "\n",
    "    g = gamma(Vx, Vy, B)\n",
    "\n",
    "    #Avoiding division by zero\n",
    "    if(V*np.sin(g) == 0 and not V == 0):\n",
    "        af = -d\n",
    "    else:\n",
    "        af = AlphaF(sys, Vx, Vy, B, Wb, g, d)\n",
    "    \n",
    "    if(t==0):\n",
    "        ar = 0\n",
    "    else:\n",
    "        ar = AlphaR(sys, Vx, Vy, B, Wb, g)\n",
    "    \n",
    "    kf = 1e-99\n",
    "    kr = slip(sys, Vx, Vy, g, wFunc, t)\n",
    "    \n",
    "    \n",
    "    #Calculate front wheel force components:\n",
    "    \n",
    "    Fxwf = 0\n",
    "    #This force is assumed to be zero due to an assumed lack of rolling resistance, braking, and driving torques on the front wheel\n",
    "    \n",
    "    #calculates force normal to the front wheel's Longitudinal axis\n",
    "    if(af == 0):\n",
    "        Fywf = 0\n",
    "    else:\n",
    "        Fywf = -BNPFrictionY(sys, af)\n",
    "    \n",
    "    #recomponentizes front force to the Lateral and Longitudincal axes of the car\n",
    "    FlongitudinalF = - np.sin(d) * Fywf\n",
    "    FlateralF      = np.cos(d)  * Fywf\n",
    "    \n",
    "    #recomponentizes force to the X-Y plane\n",
    "    Fxf = FlongitudinalF * np.cos(B) - FlateralF * np.sin(B)\n",
    "    Fyf = FlongitudinalF * np.sin(B) + FlateralF * np.cos(B)\n",
    "\n",
    "    \n",
    "    #Calculate rear wheel force components while avoiding division by zero\n",
    "    if kr == 0:\n",
    "        if kr == 0 and ar == 0:\n",
    "            FlongitudinalR = 0\n",
    "            FlateralR      = 0\n",
    "        FlongitudinalR = 0\n",
    "        FlateralR      = BNPFrictionY(sys, ar)\n",
    "    elif ar == 0:\n",
    "        FlongitudinalR = BNPFrictionX(sys, kr)\n",
    "        FlateralR      = 0\n",
    "    else:\n",
    "        FlongitudinalR = NCForceLongitudinal(sys, ar, kr)\n",
    "        FlateralR      = NCForceLateral(sys, ar, kr)\n",
    "    \n",
    "    #recomponentizes rear force to the Lateral and Longitudincal axes of the car\n",
    "    Fxr = FlongitudinalR * np.cos(B) - FlateralR * np.sin(B)\n",
    "    Fyr = FlongitudinalR * np.sin(B) + FlateralR * np.cos(B)\n",
    "    \n",
    "    #calculates sum of the forces in the X and Y directions and the sum of the torques acting on the car\n",
    "    Fx = Fxf + Fxr\n",
    "    Fy = Fyf + Fyr\n",
    "    T = (l / 2) * (FlateralF-FlateralR)\n",
    "    \n",
    "    '''\n",
    "    #debug information for ODE solver\n",
    "    if(t % 1 < 0.000001):\n",
    "        print('t = ' + str(t))\n",
    "        print('Steering angle:   ' + str(d))\n",
    "        print('Rear wheel speed: ' + str(wFunc(t)))\n",
    "        print('Position:            (' + str(X)    + ', ' + str(Y)    + ')')\n",
    "        print('Velocity:            (' + str(Vx)   + ', ' + str(Vy)   + ')')\n",
    "        print('Force:               (' + str(Fx)   + ', ' + str(Fy)   + ')')\n",
    "        print('At front:            (' + str(Fxf)  + ', ' + str(Fyf)  + ')')\n",
    "        print('At rear:             (' + str(Fxr)  + ', ' + str(Fyr)  + ')')\n",
    "        print('At front wheel axes: (' + str(Fxwf) + ', ' + str(Fywf) + ')')\n",
    "        print('At front axlw axes:  (' + str(FlongitudinalF)  + ', ' + str(FlateralF)  + ')')\n",
    "        print('At rear axle axes:   (' + str(FlongitudinalR)  + ', ' + str(FlateralR)  + ')')\n",
    "        print('Front Friction:      (' + str(BNPFrictionX(sys, kf))  + ', ' + str(BNPFrictionY(sys, af))  + ')')\n",
    "        print('Rear Friction:       (' + str(BNPFrictionX(sys, kr))  + ', ' + str(BNPFrictionY(sys, ar))  + ')')\n",
    "        print('Alpha Front:     ' + str(af))\n",
    "        print('Alpha Rear:      ' + str(ar))\n",
    "        print('Rear Wheel Slip: ' + str(kr))\n",
    "        print('Gamma:  ' + str(g))\n",
    "        print('Beta:   ' + str(B))\n",
    "        print('Wbeta:  ' + str(Wb))\n",
    "        print('Torque: ' + str(T))\n",
    "        \n",
    "        print('')\n",
    "    '''\n",
    "    \n",
    "    #calculates state variable time derivatives\n",
    "    dBdt = Wb\n",
    "    dWbdt = T / I\n",
    "    dXdt = Vx\n",
    "    dYdt = Vy\n",
    "    dVxdt = Fx / m\n",
    "    dVydt = Fy / m\n",
    "    \n",
    "    return dVxdt, dVydt, dXdt, dYdt, dBdt, dWbdt "
   ]
  },
  {
   "cell_type": "markdown",
   "metadata": {},
   "source": [
    "After finding the forces we set up our ODE solver to calculate position, velocity, and angular displacement using sum of the forces = mass times acceleration and sum of the torques = angular acceleration * moment of inertia"
   ]
  },
  {
   "cell_type": "code",
   "execution_count": 18,
   "metadata": {},
   "outputs": [
    {
     "data": {
      "text/plain": [
       "(-2.086118344703346, -3.6132629636276805, 3.0, 0.0, 0.0, -2.276355667085439)"
      ]
     },
     "execution_count": 18,
     "metadata": {},
     "output_type": "execute_result"
    }
   ],
   "source": [
    "slopeFunc(systemODE.init, 0, systemODE)"
   ]
  },
  {
   "cell_type": "code",
   "execution_count": 19,
   "metadata": {},
   "outputs": [],
   "source": [
    "resultsODE, details = run_ode_solver(systemODE, slopeFunc, max_step = 1)"
   ]
  },
  {
   "cell_type": "code",
   "execution_count": 20,
   "metadata": {},
   "outputs": [
    {
     "data": {
      "text/plain": [
       "modsim.TimeFrame"
      ]
     },
     "execution_count": 20,
     "metadata": {},
     "output_type": "execute_result"
    }
   ],
   "source": [
    "type(resultsODE)"
   ]
  },
  {
   "cell_type": "code",
   "execution_count": 21,
   "metadata": {},
   "outputs": [
    {
     "data": {
      "text/html": [
       "<div>\n",
       "<style scoped>\n",
       "    .dataframe tbody tr th:only-of-type {\n",
       "        vertical-align: middle;\n",
       "    }\n",
       "\n",
       "    .dataframe tbody tr th {\n",
       "        vertical-align: top;\n",
       "    }\n",
       "\n",
       "    .dataframe thead th {\n",
       "        text-align: right;\n",
       "    }\n",
       "</style>\n",
       "<table border=\"1\" class=\"dataframe\">\n",
       "  <thead>\n",
       "    <tr style=\"text-align: right;\">\n",
       "      <th></th>\n",
       "      <th>values</th>\n",
       "    </tr>\n",
       "  </thead>\n",
       "  <tbody>\n",
       "    <tr>\n",
       "      <th>sol</th>\n",
       "      <td>None</td>\n",
       "    </tr>\n",
       "    <tr>\n",
       "      <th>t_events</th>\n",
       "      <td>[]</td>\n",
       "    </tr>\n",
       "    <tr>\n",
       "      <th>nfev</th>\n",
       "      <td>848</td>\n",
       "    </tr>\n",
       "    <tr>\n",
       "      <th>njev</th>\n",
       "      <td>0</td>\n",
       "    </tr>\n",
       "    <tr>\n",
       "      <th>nlu</th>\n",
       "      <td>0</td>\n",
       "    </tr>\n",
       "    <tr>\n",
       "      <th>status</th>\n",
       "      <td>0</td>\n",
       "    </tr>\n",
       "    <tr>\n",
       "      <th>message</th>\n",
       "      <td>The solver successfully reached the end of the...</td>\n",
       "    </tr>\n",
       "    <tr>\n",
       "      <th>success</th>\n",
       "      <td>True</td>\n",
       "    </tr>\n",
       "  </tbody>\n",
       "</table>\n",
       "</div>"
      ],
      "text/plain": [
       "sol                                                      None\n",
       "t_events                                                   []\n",
       "nfev                                                      848\n",
       "njev                                                        0\n",
       "nlu                                                         0\n",
       "status                                                      0\n",
       "message     The solver successfully reached the end of the...\n",
       "success                                                  True\n",
       "dtype: object"
      ]
     },
     "execution_count": 21,
     "metadata": {},
     "output_type": "execute_result"
    }
   ],
   "source": [
    "details"
   ]
  },
  {
   "cell_type": "code",
   "execution_count": 22,
   "metadata": {},
   "outputs": [],
   "source": [
    "def run_simulation(system, update_func):\n",
    "    \"\"\"Runs a simulation of the system.\n",
    "        \n",
    "    system: System object\n",
    "    update_func: function that updates state\n",
    "    \n",
    "    returns: TimeFrame containing state variables, TimeFrame containing debug information\n",
    "    \"\"\"\n",
    "    unpack(system)\n",
    "    \n",
    "    frame = TimeFrame(columns=init.index)\n",
    "    frame.row[t_0] = init\n",
    "    \n",
    "    debugframe = TimeFrame(columns=debug.index)\n",
    "    debugframe.row[t_0] = debug\n",
    "    \n",
    "    for t in linrange(t_0, t_end, dt):\n",
    "        frame.row[t+dt], debugframe.row[t+dt] = update_func(frame.row[t], t, system)\n",
    "    \n",
    "    return frame, debugframe"
   ]
  },
  {
   "cell_type": "markdown",
   "metadata": {},
   "source": [
    "Because this is such a complex system, we realized that we were going to have to do a lot of debugging. We modified the update func to create a timeframe containing all the intermediate forces and variables so that we could easily verify our calculations at various steps as well as plot them to see how they change over time."
   ]
  },
  {
   "cell_type": "code",
   "execution_count": 84,
   "metadata": {},
   "outputs": [],
   "source": [
    "def update_func(state, t, sys):\n",
    "    \"\"\"Calculates the change in the state variables for a given timestep\n",
    "        \n",
    "    state:  contains positional information about the car in the X-Y plane\n",
    "        X:  displacement of the center of gravity in the X direction (meters)\n",
    "        Y:  displacement of the center of gravity in the Y direction (meters)\n",
    "        Vx: Velocity of the center of gravity in the X direction (meters / sec)\n",
    "        Vx: Velocity of the center of gravity in the X direction (meters / sec)\n",
    "        B:  angular displacement beta between the car's Longitudinal axis and the positive X axis (radians)\n",
    "        Wb: rate of change of beta, angular speed of the car rotating about its center of gravity (radians / sec)\n",
    "        \n",
    "    t:   time displacement from the beginning of the simulation (seconds)\n",
    "    sys: System Object\n",
    "    \n",
    "    returns: State containing positional information, State containing additional debug information\n",
    "    \"\"\"\n",
    "    unpack(sys)\n",
    "    Vx, Vy, X, Y, B, Wb = state\n",
    "    \n",
    "    V = norm(Vx, Vy)\n",
    "    \n",
    "    d     = dFunc(t)\n",
    "\n",
    "    g = gamma(Vx, Vy, B)\n",
    "\n",
    "    #Avoiding division by zero\n",
    "    if(V*np.sin(g) == 0 and not V == 0):\n",
    "        af = -d\n",
    "    else:\n",
    "        af = AlphaF(sys, Vx, Vy, B, Wb, g, d)\n",
    "    \n",
    "    if(t==0):\n",
    "        ar = 0\n",
    "    else:\n",
    "        ar = AlphaR(sys, Vx, Vy, B, Wb, g)\n",
    "    \n",
    "    kf = 1e-99\n",
    "    kr = slip(sys, Vx, Vy, g, wFunc, t)\n",
    "    \n",
    "    \n",
    "    #Calculate front wheel force components:\n",
    "    \n",
    "    Fxwf = 0\n",
    "    #This force is assumed to be zero due to an assumed lack of rolling resistance, braking, and driving torques on the front wheel\n",
    "    \n",
    "    #calculates force normal to the front wheel's Longitudinal axis\n",
    "    if(af == 0):\n",
    "        Fywf = 0\n",
    "    else:\n",
    "        Fywf = -BNPFrictionY(sys, af)\n",
    "    \n",
    "    #recomponentizes front force to the Lateral and Longitudincal axes of the car\n",
    "    FlongitudinalF = - np.sin(d) * Fywf\n",
    "    FlateralF      = np.cos(d)  * Fywf\n",
    "    \n",
    "    #recomponentizes force to the X-Y plane\n",
    "    Fxf = FlongitudinalF * np.cos(B) - FlateralF * np.sin(B)\n",
    "    Fyf = FlongitudinalF * np.sin(B) + FlateralF * np.cos(B)\n",
    "\n",
    "    \n",
    "    #Calculate rear wheel force components while avoiding division by zero\n",
    "    if kr == 0:\n",
    "        if kr == 0 and ar == 0:\n",
    "            FlongitudinalR = 0\n",
    "            FlateralR      = 0\n",
    "        FlongitudinalR = 0\n",
    "        FlateralR      = BNPFrictionY(sys, ar)\n",
    "    elif ar == 0:\n",
    "        FlongitudinalR = BNPFrictionX(sys, kr)\n",
    "        FlateralR      = 0\n",
    "    else:\n",
    "        FlongitudinalR = NCForceLongitudinal(sys, ar, kr)\n",
    "        FlateralR      = NCForceLateral(sys, ar, kr)\n",
    "    \n",
    "    #recomponentizes rear force to the Lateral and Longitudincal axes of the car\n",
    "    Fxr = FlongitudinalR * np.cos(B) - FlateralR * np.sin(B)\n",
    "    Fyr = FlongitudinalR * np.sin(B) + FlateralR * np.cos(B)\n",
    "    \n",
    "    #calculates sum of the forces in the X and Y directions and the sum of the torques acting on the car\n",
    "    Fx = Fxf + Fxr\n",
    "    Fy = Fyf + Fyr\n",
    "    T = (l / 2) * (FlateralF-FlateralR)\n",
    "    \n",
    "    #calculates theta for debug info\n",
    "    theta = np.arctan(Vy / Vx)\n",
    "    \n",
    "    if(Vx < 0):\n",
    "        theta += np.pi\n",
    "    \n",
    "    #calculates state variable time derivatives\n",
    "    dBdt = Wb\n",
    "    dWbdt = T / I\n",
    "    dXdt = Vx\n",
    "    dYdt = Vy\n",
    "    dVxdt = Fx / m\n",
    "    dVydt = Fy / m\n",
    "    \n",
    "    #multiplies derivatives by timestep dt to approximate the change in the state variables\n",
    "    Vx += dVxdt * dt\n",
    "    Vy += dVydt * dt \n",
    "    X  += dXdt  * dt\n",
    "    Y  += dYdt  * dt\n",
    "    B  += dBdt  * dt\n",
    "    Wb += dWbdt * dt\n",
    "    \n",
    "    return State(Vx = Vx, Vy = Vy, X = X, Y = Y, B = B, Wb = Wb), State(af = af, ar = ar, kf = kf, kr = kr, w = wFunc(t), g = g, d = dFunc(t), \n",
    "                                                                        theta = theta, FlongitudinalF = FlongitudinalF, \n",
    "                                                                        FlongitudinalR = FlongitudinalR, FlateralF = FlateralF, FlateralR = FlateralR, \n",
    "                                                                        Fxwf = Fxwf, Fywf = Fywf, Fxf = Fxf, Fyf = Fyf, Fxr = Fxr, Fyr = Fyr, Torque = T)"
   ]
  },
  {
   "cell_type": "code",
   "execution_count": 85,
   "metadata": {},
   "outputs": [],
   "source": [
    "results, debug = run_simulation(system, update_func)\n",
    "#results.head()"
   ]
  },
  {
   "cell_type": "code",
   "execution_count": 25,
   "metadata": {},
   "outputs": [],
   "source": [
    "def plotPath(res, label):\n",
    "    '''Plots the path of the center of gravity of the car in the X-Y plane\n",
    "    \n",
    "    res:   TimeFrame Object containing the results of the simulation\n",
    "        X: displacement of the center of gravity in the X direction (meters)\n",
    "        Y: displacement of the center of gravity in the Y direction (meters)\n",
    "    label: identifier for the path that is being plotted\n",
    "    \n",
    "    returns: void\n",
    "    '''\n",
    "    plot(res.X, res.Y, label = str(label))\n",
    "    \n",
    "    decorate(xlabel = 'x position (m)',\n",
    "             ylabel = 'y position (m)')\n",
    "    \n",
    "def plotFrontWheel(res, label):\n",
    "    '''Plots the path of the front wheel of the car in the X-Y plane\n",
    "    \n",
    "    res:   TimeFrame Object containing the results of the simulation\n",
    "        X: displacement of the center of gravity in the X direction (meters)\n",
    "        Y: displacement of the center of gravity in the Y direction (meters)\n",
    "        B: angular displacement beta between the car's Longitudinal axis and the positive X axis (radians)\n",
    "    label: identifier for the path that is being plotted\n",
    "    \n",
    "    returns: void\n",
    "    '''\n",
    "    plot(res.X + (l/2) * np.cos(res.B), res.Y + (l/2) * np.sin(res.B), label = 'Front Wheel ' + str(label))\n",
    "    \n",
    "    decorate(xlabel = 'x position (m)',\n",
    "             ylabel = 'y position (m)')\n",
    "    \n",
    "def plotRearWheel(res, label):\n",
    "    '''Plots the path of the front wheel of the car in the X-Y plane\n",
    "    \n",
    "    res:   TimeFrame Object containing the results of the simulation\n",
    "        X: displacement of the center of gravity in the X direction (meters)\n",
    "        Y: displacement of the center of gravity in the Y direction (meters)\n",
    "        B: angular displacement beta between the car's Longitudinal axis and the positive X axis (radians)\n",
    "    label: identifier for the path that is being plotted\n",
    "    \n",
    "    returns: void\n",
    "    '''\n",
    "    plot(res.X - (l/2) * np.cos(res.B), res.Y - (l/2) * np.sin(res.B), label = 'Rear Wheel ' + str(label))\n",
    "    \n",
    "    decorate(xlabel = 'x position (m)',\n",
    "             ylabel = 'y position (m)')"
   ]
  },
  {
   "cell_type": "code",
   "execution_count": 26,
   "metadata": {},
   "outputs": [
    {
     "name": "stdout",
     "output_type": "stream",
     "text": [
      "1.0\n"
     ]
    },
    {
     "data": {
      "image/png": "[encoded data removed]",
      "text/plain": [
       "<Figure size 432x288 with 1 Axes>"
      ]
     },
     "metadata": {},
     "output_type": "display_data"
    }
   ],
   "source": [
    "plotPath(results, 'Update Func')\n",
    "plotFrontWheel(results, 'Update Func')\n",
    "plotRearWheel(results, 'UpdateFunc')"
   ]
  },
  {
   "cell_type": "code",
   "execution_count": 27,
   "metadata": {},
   "outputs": [
    {
     "data": {
      "image/png": "[encoded data removed]",
      "text/plain": [
       "<Figure size 432x288 with 1 Axes>"
      ]
     },
     "metadata": {},
     "output_type": "display_data"
    }
   ],
   "source": [
    "plot(results.Vx, label = 'Vx')\n",
    "plot(results.Vy, label = 'Vy')\n",
    "\n",
    "decorate()"
   ]
  },
  {
   "cell_type": "markdown",
   "metadata": {},
   "source": [
    "# Results\n",
    "\n",
    "at this point when we tried giving the ODE solver w and d as functions of time, it was taking hundreds of thousands of time steps, so we decided to switch to an update func instead."
   ]
  },
  {
   "cell_type": "code",
   "execution_count": 50,
   "metadata": {},
   "outputs": [
    {
     "data": {
      "text/html": [
       "<div>\n",
       "<style scoped>\n",
       "    .dataframe tbody tr th:only-of-type {\n",
       "        vertical-align: middle;\n",
       "    }\n",
       "\n",
       "    .dataframe tbody tr th {\n",
       "        vertical-align: top;\n",
       "    }\n",
       "\n",
       "    .dataframe thead th {\n",
       "        text-align: right;\n",
       "    }\n",
       "</style>\n",
       "<table border=\"1\" class=\"dataframe\">\n",
       "  <thead>\n",
       "    <tr style=\"text-align: right;\">\n",
       "      <th></th>\n",
       "      <th>values</th>\n",
       "    </tr>\n",
       "  </thead>\n",
       "  <tbody>\n",
       "    <tr>\n",
       "      <th>init</th>\n",
       "      <td>Vx    15.0\n",
       "Vy     0.0\n",
       "X      0.0\n",
       "Y      0.0\n",
       "B ...</td>\n",
       "    </tr>\n",
       "    <tr>\n",
       "      <th>wFunc</th>\n",
       "      <td>&lt;function wFunc0 at 0x7f04977a4d08&gt;</td>\n",
       "    </tr>\n",
       "    <tr>\n",
       "      <th>dFunc</th>\n",
       "      <td>&lt;function dFunc0 at 0x7f0491b84e18&gt;</td>\n",
       "    </tr>\n",
       "    <tr>\n",
       "      <th>r</th>\n",
       "      <td>0.3</td>\n",
       "    </tr>\n",
       "    <tr>\n",
       "      <th>I</th>\n",
       "      <td>2500</td>\n",
       "    </tr>\n",
       "    <tr>\n",
       "      <th>l</th>\n",
       "      <td>2.52</td>\n",
       "    </tr>\n",
       "    <tr>\n",
       "      <th>h</th>\n",
       "      <td>0.28</td>\n",
       "    </tr>\n",
       "    <tr>\n",
       "      <th>m</th>\n",
       "      <td>1250</td>\n",
       "    </tr>\n",
       "    <tr>\n",
       "      <th>Fxk</th>\n",
       "      <td>B       0.12\n",
       "C       1.48\n",
       "D    3308.00\n",
       "E      ...</td>\n",
       "    </tr>\n",
       "    <tr>\n",
       "      <th>Fya</th>\n",
       "      <td>B       0.08\n",
       "C       1.44\n",
       "D    6004.00\n",
       "E      ...</td>\n",
       "    </tr>\n",
       "    <tr>\n",
       "      <th>t_0</th>\n",
       "      <td>0</td>\n",
       "    </tr>\n",
       "    <tr>\n",
       "      <th>t_end</th>\n",
       "      <td>20</td>\n",
       "    </tr>\n",
       "    <tr>\n",
       "      <th>step</th>\n",
       "      <td>0</td>\n",
       "    </tr>\n",
       "  </tbody>\n",
       "</table>\n",
       "</div>"
      ],
      "text/plain": [
       "init     Vx    15.0\n",
       "Vy     0.0\n",
       "X      0.0\n",
       "Y      0.0\n",
       "B ...\n",
       "wFunc                  <function wFunc0 at 0x7f04977a4d08>\n",
       "dFunc                  <function dFunc0 at 0x7f0491b84e18>\n",
       "r                                                      0.3\n",
       "I                                                     2500\n",
       "l                                                     2.52\n",
       "h                                                     0.28\n",
       "m                                                     1250\n",
       "Fxk      B       0.12\n",
       "C       1.48\n",
       "D    3308.00\n",
       "E      ...\n",
       "Fya      B       0.08\n",
       "C       1.44\n",
       "D    6004.00\n",
       "E      ...\n",
       "t_0                                                      0\n",
       "t_end                                                   20\n",
       "step                                                     0\n",
       "dtype: object"
      ]
     },
     "execution_count": 50,
     "metadata": {},
     "output_type": "execute_result"
    }
   ],
   "source": [
    "#creation of various rear wheel angular velocity functions to sweep\n",
    "def wFunc10(t):\n",
    "    w = 10\n",
    "    \n",
    "    return w\n",
    "\n",
    "def wFunc20(t):\n",
    "    w = 20\n",
    "    \n",
    "    return w\n",
    "\n",
    "def wFunc30(t):\n",
    "    w = 30\n",
    "    \n",
    "    return w\n",
    "\n",
    "def wFunc40(t):\n",
    "    w = 50\n",
    "    \n",
    "    return w\n",
    "\n",
    "def wFunc50(t):\n",
    "    w = 50\n",
    "    \n",
    "    return w\n",
    "    \n",
    "#creation of various steering angle functions to sweep    \n",
    "def dFunc0(t):\n",
    "    d = 0*deg*(1 - np.e**(-t))\n",
    "    \n",
    "    return d\n",
    "\n",
    "def dFunc1(t):\n",
    "    d = 1*deg*(1 - np.e**(-t))\n",
    "    \n",
    "    return d\n",
    "\n",
    "def dFunc2(t):\n",
    "    d = 2*deg*(1 - np.e**(-t))\n",
    "    \n",
    "    return d\n",
    "\n",
    "def dFunc3(t):\n",
    "    d = 3*deg*(1 - np.e**(-t))\n",
    "    \n",
    "    return d\n",
    "\n",
    "def dFunc4(t):\n",
    "    d = 4*deg*(1 - np.e**(-t))\n",
    "    \n",
    "    return d\n",
    "\n",
    "def dFunc5(t):\n",
    "    d = 5*deg*(1 - np.e**(-t))\n",
    "    \n",
    "    return d\n",
    "\n",
    "def dFunc10(t):\n",
    "    d = 10*deg*(1 - np.e**(-t))\n",
    "    \n",
    "    return d\n",
    "\n",
    "def dFunc15(t):\n",
    "    d = 15*deg*(1 - np.e**(-t))\n",
    "    \n",
    "    return d\n",
    "\n",
    "def dFunc20(t):\n",
    "    d = 20*deg*(1 - np.e**(-t))\n",
    "    \n",
    "    return d\n",
    "\n",
    "def dFunc25(t):\n",
    "    d = 25*deg*(1 - np.e**(-t))\n",
    "    \n",
    "    return d\n",
    "\n",
    "def dFunc30(t):\n",
    "    d = 30*deg*(1 - np.e**(-t))\n",
    "    \n",
    "    return d\n",
    "\n",
    "#creation of systems for sweeping\n",
    "sys050 = make_system(wFunc50, dFunc0, 10, 0.01)\n",
    "sys150 = make_system(wFunc50, dFunc1, 10, 0.01)\n",
    "sys250 = make_system(wFunc50, dFunc2, 10, 0.01)\n",
    "sys350 = make_system(wFunc50, dFunc3, 10, 0.01)\n",
    "sys450 = make_system(wFunc50, dFunc4, 10, 0.01)\n",
    "sys550 = make_system(wFunc50, dFunc5, 10, 0.01)\n",
    "sys1050 = make_system(wFunc50, dFunc10, 10, 0.01)\n",
    "sys1550 = make_system(wFunc50, dFunc15, 10, 0.01)\n",
    "sys2050 = make_system(wFunc50, dFunc20, 10, 0.01)\n",
    "sys2550 = make_system(wFunc50, dFunc25, 10, 0.01)\n",
    "sys3050 = make_system(wFunc50, dFunc30, 10, 0.01)\n",
    "\n",
    "sys510 = make_system(wFunc10, dFunc5, 10, 0.01)\n",
    "sys520 = make_system(wFunc20, dFunc5, 10, 0.01)\n",
    "sys530 = make_system(wFunc30, dFunc5, 10, 0.01)\n",
    "sys540 = make_system(wFunc40, dFunc5, 10, 0.01)"
   ]
  },
  {
   "cell_type": "code",
   "execution_count": 52,
   "metadata": {},
   "outputs": [],
   "source": [
    "#running of simulations for steering angle sweep\n",
    "results0, debug0 = run_simulation(sys050, update_func)\n",
    "results1, debug0 = run_simulation(sys150, update_func)\n",
    "results2, debug0 = run_simulation(sys250, update_func)\n",
    "results3, debug0 = run_simulation(sys350, update_func)\n",
    "results4, debug0 = run_simulation(sys450, update_func)\n",
    "results5, debug5 = run_simulation(sys550, update_func)\n",
    "results10, debug10 = run_simulation(sys1050, update_func)\n",
    "results15, debug15 = run_simulation(sys1550, update_func)\n",
    "results20, debug20 = run_simulation(sys2050, update_func)\n",
    "results25, debug25 = run_simulation(sys2550, update_func)\n",
    "results30, debug30 = run_simulation(sys3050, update_func)"
   ]
  },
  {
   "cell_type": "markdown",
   "metadata": {},
   "source": [
    "We decided to look at cornering as our primary condition of concern, considering that is the time it is most dangerous to lose traction. For our first sweep we looked at  a driver entering a turn with a rear wheel angular speed of 50 rads/s (translates to about 35 mph) and then turns the wheel to a predetermined angle in degrees. A (1 - e^(-t)) curve was chosen because it exhibits an asymptotic behavior while still being continuous and differentiable along its domain and avoiding the abrupt slippage that would be caused by an instant transition from an unturned wheel to the desired angle that a constant delta function would give."
   ]
  },
  {
   "cell_type": "code",
   "execution_count": 53,
   "metadata": {},
   "outputs": [
    {
     "data": {
      "image/png": "[encoded data removed]",
      "text/plain": [
       "<Figure size 432x288 with 1 Axes>"
      ]
     },
     "metadata": {},
     "output_type": "display_data"
    }
   ],
   "source": [
    "plot(debug5.d/deg, label = '5 degrees')\n",
    "plot(debug10.d/deg, label = '10 degrees')\n",
    "plot(debug15.d/deg, label = '15 degrees')\n",
    "plot(debug20.d/deg, label = '20 degrees')\n",
    "plot(debug25.d/deg, label = '25 degrees')\n",
    "plot(debug30.d/deg, label = '30 degrees')\n",
    "decorate(xlabel = 'time (s)',\n",
    "             ylabel = 'steering angle (degrees)')"
   ]
  },
  {
   "cell_type": "code",
   "execution_count": 81,
   "metadata": {},
   "outputs": [],
   "source": [
    "def plotCar(results, label):\n",
    "    '''Plots the path of the center of gravity of the car, as well as the front and rear wheel positions in the X-Y plane\n",
    "    \n",
    "    results: TimeFrame Object containing the results of the simulation\n",
    "    label: identifier for the paths being plotted\n",
    "    \n",
    "    returns: void\n",
    "    '''\n",
    "    plotPath(results, label)\n",
    "    plotFrontWheel(results, label)\n",
    "    plotRearWheel(results, label)"
   ]
  },
  {
   "cell_type": "markdown",
   "metadata": {},
   "source": [
    "We wrote a program to plot the path of the car (center of gravity), along with the paths of the front and rear wheels, to give a better idea of when the car brakes traction and spins out"
   ]
  },
  {
   "cell_type": "code",
   "execution_count": 55,
   "metadata": {},
   "outputs": [
    {
     "data": {
      "image/png": "[encoded data removed]",
      "text/plain": [
       "<Figure size 432x288 with 1 Axes>"
      ]
     },
     "metadata": {},
     "output_type": "display_data"
    }
   ],
   "source": [
    "plotCar(results5, '5 degrees')"
   ]
  },
  {
   "cell_type": "code",
   "execution_count": 57,
   "metadata": {},
   "outputs": [
    {
     "data": {
      "image/png": "[encoded data removed]",
      "text/plain": [
       "<Figure size 432x288 with 1 Axes>"
      ]
     },
     "metadata": {},
     "output_type": "display_data"
    }
   ],
   "source": [
    "plotPath(results0, '0 degrees')\n",
    "plotPath(results1, '1 degrees')\n",
    "plotPath(results2, '2 degrees')\n",
    "plotPath(results3, '3 degrees')\n",
    "plotPath(results4, '4 degrees')\n",
    "plotPath(results5, '5 degrees')\n",
    "plotPath(results10, '10 degrees')\n",
    "plotPath(results15, '15 degrees')\n",
    "plotPath(results20, '20 degrees')\n",
    "plotPath(results25, '25 degrees')\n",
    "plotPath(results30, '30 degrees')"
   ]
  },
  {
   "cell_type": "markdown",
   "metadata": {},
   "source": [
    "None of our simulated cars were able to complete the turn with a wheel speed of 50 rads / s, which meant it was time to try sweeping lower wheel speeds. The steering function, which was asymptotic to 5 degrees, was kept consistent."
   ]
  },
  {
   "cell_type": "code",
   "execution_count": 82,
   "metadata": {},
   "outputs": [],
   "source": [
    "#running simulations for a sweep of wheel speed\n",
    "results510, debug510 = run_simulation(sys510, update_func)\n",
    "results520, debug520 = run_simulation(sys520, update_func)    \n",
    "results530, debug530 = run_simulation(sys530, update_func)    \n",
    "results540, debug540 = run_simulation(sys540, update_func)    \n",
    "results550, debug550 = run_simulation(sys550, update_func)    "
   ]
  },
  {
   "cell_type": "code",
   "execution_count": 62,
   "metadata": {},
   "outputs": [
    {
     "data": {
      "image/png": "[encoded data removed]",
      "text/plain": [
       "<Figure size 432x288 with 1 Axes>"
      ]
     },
     "metadata": {},
     "output_type": "display_data"
    }
   ],
   "source": [
    "plotCar(results510, '10 rads / s')\n",
    "plotPath(results520, '20 rads / s')\n",
    "plotPath(results530, '30 rads / s')\n",
    "plotPath(results540, '40 rads / s')\n",
    "plotPath(results550, '50 rads / s')"
   ]
  },
  {
   "cell_type": "markdown",
   "metadata": {},
   "source": [
    "As you can see, not even at low, constant speeds was our simulated car able to successfully complete the turn. The vehicle we modeled loses traction when turning at angles as low as 5 degrees at speeds as low as 3 m/s (calculated from tire radius * w)."
   ]
  },
  {
   "cell_type": "code",
   "execution_count": 86,
   "metadata": {},
   "outputs": [
    {
     "data": {
      "image/png": "[encoded data removed]",
      "text/plain": [
       "<Figure size 432x288 with 1 Axes>"
      ]
     },
     "metadata": {},
     "output_type": "display_data"
    }
   ],
   "source": [
    "def wFuncAccel(t):\n",
    "    #angular speed starts at 10 rads / sec and increases at a rate of 5 rads / sec^2\n",
    "    w = 5 * t + 10\n",
    "    \n",
    "    return w\n",
    "\n",
    "sysAccel = make_system(wFuncAccel, dFunc10, 10, 0.001)\n",
    "resultsA, debugA = run_simulation(sysAccel, update_func)\n",
    "\n",
    "plotCar(resultsA, 'Accellerating')"
   ]
  },
  {
   "cell_type": "markdown",
   "metadata": {},
   "source": [
    "and having the car accelerate through the turn made things considerably worse."
   ]
  },
  {
   "cell_type": "markdown",
   "metadata": {},
   "source": [
    "# Interpretation\n",
    "\n",
    "These results show that, although it may seem fun, cornering can acutually be highly dangerous. It's a good thing that real cars have differentials and brakes."
   ]
  },
  {
   "cell_type": "markdown",
   "metadata": {},
   "source": [
    "Well... either that, or they show that we did not successfuly implement our model in python. Our model has many flaws, but our real downfall was our hubris. We learned that there in fact was a reason that we were told not to do drifting as our project. To be fair, this isn't really a drifting project any more. If we've made progress anywhere it was at least in our question. We've come a long way from wanting to sweep a steady-state drift. Finding some magical set of wheel speed and steering angle functions that would give us the drifting we craved is also not entirely in the spirit of modsim, as there are way too many different variables and arbitrary choices to make for the results to be in any way significant. With our current question we decided to take a look at cornering in a more general sense, using our simulation to predict what will happen rather than knowing what we want to happen and trying to make it happen. Given more time to develop, this could have been a genuinely useful model for automakers and highway safety, and not just the kids that want to do donuts in their secondhand panther bodies. As we were saying, our other biggest difficulty with this problem has been time. We ended up waaaaay over scoped for our current skill levels in math, physics, and programming. Maybe there's a reason that the majority of the research that's out there was on steady state drifting. Given more time for this project, the first thing we would probably do is stop to breathe. Over the past two weeks we've spent dozens of hours to half-comprehend an obscure frictional model of tire forces, and dozens more trying, and failing, to implement it in python, banging our collective heads against the wall just to show Allen Downey that we really could do it, only to bow our half concussed head in subservience. Right now, who knows what's wrong with the model? Maybe its just a single misplaced variable, maybe we have to go back and reframe all the different axes a fourth time, maybe we have a funamental misunderstanding of the tire model, we really just don't know at this point. We might some day, but today we have to present our findings thus far. We may still not know exactly what driver control inputs allow a rear wheel drive car with no brakes and no differential to safely turn a corner, but we have learned some important lessons about project scope and humility."
   ]
  },
  {
   "cell_type": "code",
   "execution_count": null,
   "metadata": {},
   "outputs": [],
   "source": []
  }
 ],
 "metadata": {
  "kernelspec": {
   "display_name": "Python 3",
   "language": "python",
   "name": "python3"
  },
  "language_info": {
   "codemirror_mode": {
    "name": "ipython",
    "version": 3
   },
   "file_extension": ".py",
   "mimetype": "text/x-python",
   "name": "python",
   "nbconvert_exporter": "python",
   "pygments_lexer": "ipython3",
   "version": "3.6.5"
  }
 },
 "nbformat": 4,
 "nbformat_minor": 2
}
